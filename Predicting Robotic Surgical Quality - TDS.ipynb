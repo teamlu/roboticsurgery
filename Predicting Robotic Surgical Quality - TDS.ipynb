{
 "cells": [
  {
   "cell_type": "markdown",
   "metadata": {},
   "source": [
    "## Pre-processing"
   ]
  },
  {
   "cell_type": "markdown",
   "metadata": {},
   "source": [
    "Some custom functions"
   ]
  },
  {
   "cell_type": "code",
   "execution_count": 1,
   "metadata": {},
   "outputs": [],
   "source": [
    "import pandas as pd\n",
    "import os\n",
    "import glob\n",
    "import numpy as np\n",
    "from pandas.io.common import EmptyDataError\n",
    "from scipy.stats import zscore\n",
    "\n",
    "def get_filesList(procedure):\n",
    "    '''Function to get a list of filenames from each procedure-based folder'''\n",
    "    # Set directory\n",
    "    my_dir = procedure + \"/\"\n",
    "    filesList = []\n",
    "    os.chdir(my_dir)\n",
    "\n",
    "    # Build up list of files\n",
    "    for files in glob.glob(\"*.txt\"):\n",
    "        filesList.append(files) #filename with extension\n",
    "    \n",
    "    # Reset by ascending up one level in the directory\n",
    "    my_dir = \"../\"\n",
    "    os.chdir(my_dir)\n",
    "    \n",
    "    return filesList\n",
    "\n",
    "def get_dataframe(filesList):     \n",
    "    '''Function to read in text files, split MTM and PSM sensors, normalize, and save as a dataframe'''\n",
    "\n",
    "    # Create blank dataframe\n",
    "    procedure = pd.DataFrame()\n",
    "    \n",
    "    # Enter into sub-level depending on procedure\n",
    "    if filesList is KT_list:\n",
    "        os.chdir(\"knot_tying/\")\n",
    "    elif filesList is NP_list:\n",
    "        os.chdir(\"needle_passing/\")\n",
    "    elif filesList is S_list:\n",
    "        os.chdir(\"suturing/\")\n",
    "    \n",
    "    # Iterate through filelist\n",
    "    for ijk in filesList:\n",
    "        try:\n",
    "            # Read each txt to a dataframe\n",
    "            frame = pd.read_csv(ijk, header=None, delim_whitespace=True)\n",
    "            frame = frame.apply(zscore) # normalize all columns of df\n",
    "            frame['name'] = os.path.splitext(ijk)[0] # save file name for each row\n",
    "\n",
    "            # Split MTM and PSM categories into sensor1 and sensor2\n",
    "            sensor1 = frame.iloc[:, list(range(38)) + [-1]]\n",
    "            sensor2 = frame.iloc[:, 38:]\n",
    "            sensor2.columns = list(range(0, 38)) + ['name'] # sensor2 column names should be consistent with sensor1's\n",
    "\n",
    "            # Concatenate them into the blank dataframe\n",
    "            procedure = procedure.append(sensor1)\n",
    "            procedure = procedure.append(sensor2)\n",
    "\n",
    "        except EmptyDataError: # Skip the file if there's an error\n",
    "            continue\n",
    "    \n",
    "    # Reset by ascending up one level in the directory\n",
    "    os.chdir(\"../\")\n",
    "\n",
    "    return procedure\n",
    "\n",
    "def merge_labels(labels):\n",
    "    '''Function to add labels'''\n",
    "    \n",
    "    # Set procedure to the input df which corresponds with the input parameter\n",
    "    if labels is knot_tying_labels:\n",
    "        procedure = knot_tying\n",
    "    elif labels is needle_passing_labels:\n",
    "        procedure = needle_passing\n",
    "    elif labels is suturing_labels:\n",
    "        procedure = suturing\n",
    "    \n",
    "    # Merge labels with the input df\n",
    "    procedure = procedure.merge(labels, left_on='name', right_on=0)\n",
    "    procedure = procedure[procedure.columns[:-7]]\n",
    "    procedure = procedure.drop(['0_y'],axis =1)\n",
    "    procedure.columns = list(range(0, 38)) + ['name'] + ['skill']\n",
    "    \n",
    "    return procedure\n",
    "\n",
    "def sliding_window(procedure, step_size=30, window_size=60):\n",
    "    '''Function to perform single-window cropping'''\n",
    "\n",
    "    sequences = []\n",
    "    rows = 0 # rows\n",
    "    cols = 0 # cols\n",
    "    \n",
    "    while (rows + window_size) < len(procedure):\n",
    "        sequences.append(procedure[rows:(rows + window_size - 1)])\n",
    "        rows = rows + step_size\n",
    "        cols = cols + 1\n",
    "        \n",
    "    return sequences\n",
    "\n",
    "def shape_inputs(crops):\n",
    "    '''Function to extract inputs'''\n",
    "    \n",
    "    # Set as 3D array\n",
    "    procedure_x = np.hstack(crops).reshape(len(crops), 59, 40) \n",
    "    \n",
    "    # Briefly convert to array so we can remove the last two columns\n",
    "    procedure_x = np.asarray([sublist[:-2] for sample in procedure_x for sublist in sample])\n",
    "    \n",
    "    # Reshape as 3D array. Note: There is probably a better way than having to use hstack() twice\n",
    "    procedure_x = np.hstack(procedure_x).reshape(len(crops), 59, 38) \n",
    "\n",
    "    return procedure_x\n",
    "\n",
    "def encode_labels(y_list):\n",
    "    '''Function to encode labels'''\n",
    "    \n",
    "    labels = []\n",
    "\n",
    "    for l in y_list:\n",
    "        if l == 'N':\n",
    "            labels.append(0)\n",
    "        elif l == 'I':\n",
    "            labels.append(1)\n",
    "        else:\n",
    "            labels.append(2)\n",
    "    \n",
    "    labels = np.array(labels)\n",
    "    \n",
    "    return labels\n",
    "    \n",
    "def prepareFor_Keras(procedure):\n",
    "    '''Function to run split by skill level, run sliding window, and prepare 3D arrays from dataframes'''    \n",
    "\n",
    "    # Split by skill level and Crop\n",
    "    procedure_N = sliding_window(procedure[procedure['skill'] == 'N'])\n",
    "    procedure_I = sliding_window(procedure[procedure['skill'] == 'I'])\n",
    "    procedure_E = sliding_window(procedure[procedure['skill'] == 'E'])\n",
    "    \n",
    "    # Get inputs\n",
    "    procedure_N_x = shape_inputs(procedure_N)\n",
    "    procedure_I_x = shape_inputs(procedure_I)\n",
    "    procedure_E_x = shape_inputs(procedure_E)\n",
    "    \n",
    "    # Get outputs\n",
    "    procedure_N_y = np.full(len(procedure_N_x), \"N\")\n",
    "    procedure_I_y = np.full(len(procedure_I_x), \"I\")\n",
    "    procedure_E_y = np.full(len(procedure_E_x), \"E\")\n",
    "\n",
    "    # Concatenate all skill levels into one X df and one Y df\n",
    "    procedure_x = np.concatenate((procedure_N_x, procedure_I_x, procedure_E_x), axis=0)\n",
    "    procedure_y = np.concatenate((procedure_N_y, procedure_I_y, procedure_E_y), axis=0)\n",
    "    \n",
    "    # One-hot encode the y labels\n",
    "    procedure_y = encode_labels(procedure_y)\n",
    "    \n",
    "    return procedure_x, procedure_y"
   ]
  },
  {
   "cell_type": "markdown",
   "metadata": {},
   "source": [
    "#### Data Loading"
   ]
  },
  {
   "cell_type": "code",
   "execution_count": 2,
   "metadata": {},
   "outputs": [],
   "source": [
    "# Load txt files containing sensor data. Put into lists by surgical task\n",
    "procedures = [\"knot_tying\", \"needle_passing\", \"suturing\"]\n",
    "KT_list = get_filesList(procedures[0])\n",
    "NP_list = get_filesList(procedures[1])\n",
    "S_list = get_filesList(procedures[2])"
   ]
  },
  {
   "cell_type": "code",
   "execution_count": 3,
   "metadata": {},
   "outputs": [],
   "source": [
    "# Load txt files containing labels (i.e. novice, intermediate, expert)\n",
    "knot_tying_labels = pd.read_csv(\"labels/meta_file_Knot_Tying.txt\", header=None, delim_whitespace=True)\n",
    "needle_passing_labels = pd.read_csv(\"labels/meta_file_Needle_Passing.txt\", header=None, delim_whitespace=True)\n",
    "suturing_labels = pd.read_csv(\"labels/meta_file_Suturing.txt\", header=None, delim_whitespace=True)"
   ]
  },
  {
   "cell_type": "markdown",
   "metadata": {},
   "source": [
    "#### Data Preparation"
   ]
  },
  {
   "cell_type": "code",
   "execution_count": 4,
   "metadata": {},
   "outputs": [],
   "source": [
    "# Convert lists into dataframes\n",
    "knot_tying = get_dataframe(KT_list)\n",
    "needle_passing = get_dataframe(NP_list)\n",
    "suturing = get_dataframe(S_list)"
   ]
  },
  {
   "cell_type": "code",
   "execution_count": 5,
   "metadata": {},
   "outputs": [],
   "source": [
    "# Merge input dfs and labels\n",
    "knot_tying = merge_labels(knot_tying_labels)\n",
    "needle_passing = merge_labels(needle_passing_labels)\n",
    "suturing = merge_labels(suturing_labels)"
   ]
  },
  {
   "cell_type": "code",
   "execution_count": 6,
   "metadata": {},
   "outputs": [],
   "source": [
    "# Prepare dataframes for Keras\n",
    "knot_tying_x, knot_tying_y = prepareFor_Keras(knot_tying)\n",
    "needle_passing_x, needle_passing_y = prepareFor_Keras(needle_passing)\n",
    "suturing_x, suturing_y = prepareFor_Keras(suturing)"
   ]
  },
  {
   "cell_type": "code",
   "execution_count": 7,
   "metadata": {},
   "outputs": [
    {
     "name": "stdout",
     "output_type": "stream",
     "text": [
      "Number of crops for Knot-Tying: 4134\n",
      "Number of crops for Needle-Passing: 6052\n",
      "Number of crops for Suturing: 8754\n"
     ]
    }
   ],
   "source": [
    "# Check number of crops\n",
    "print(\"Number of crops for Knot-Tying: \" + str(len(knot_tying_x)))\n",
    "print(\"Number of crops for Needle-Passing: \" + str(len(needle_passing_x)))\n",
    "print(\"Number of crops for Suturing: \" + str(len(suturing_x)))"
   ]
  },
  {
   "cell_type": "markdown",
   "metadata": {},
   "source": [
    "#### Train/Test Split"
   ]
  },
  {
   "cell_type": "code",
   "execution_count": 8,
   "metadata": {},
   "outputs": [],
   "source": [
    "from sklearn.model_selection import train_test_split\n",
    "\n",
    "# Run splits\n",
    "knot_tying_train_data, knot_tying_test_data, knot_tying_train_labels, knot_tying_test_labels =  train_test_split(knot_tying_x, knot_tying_y, test_size=0.2)\n",
    "needle_passing_train_data, needle_passing_test_data, needle_passing_train_labels, needle_passing_test_labels =  train_test_split(needle_passing_x, needle_passing_y, test_size=0.2)\n",
    "suturing_train_data, suturing_test_data, suturing_train_labels, suturing_test_labels =  train_test_split(suturing_x, suturing_y, test_size=0.2)"
   ]
  },
  {
   "cell_type": "code",
   "execution_count": 9,
   "metadata": {},
   "outputs": [],
   "source": [
    "import tensorflow as tf\n",
    "from tensorflow.keras.utils import to_categorical\n",
    "\n",
    "# Convert X's to tensors\n",
    "knot_tying_train_data = tf.convert_to_tensor(knot_tying_train_data, np.float32)\n",
    "knot_tying_test_data = tf.convert_to_tensor(knot_tying_test_data, np.float32)\n",
    "needle_passing_train_data = tf.convert_to_tensor(needle_passing_train_data, np.float32)\n",
    "needle_passing_test_data = tf.convert_to_tensor(needle_passing_test_data, np.float32)\n",
    "suturing_train_data = tf.convert_to_tensor(suturing_train_data, np.float32)\n",
    "suturing_test_data = tf.convert_to_tensor(suturing_test_data, np.float32)\n",
    "\n",
    "# Convert Y's to categorical variables\n",
    "knot_tying_train_labels = to_categorical(knot_tying_train_labels)\n",
    "knot_tying_test_labels = to_categorical(knot_tying_test_labels)\n",
    "needle_passing_train_labels = to_categorical(needle_passing_train_labels)\n",
    "needle_passing_test_labels = to_categorical(needle_passing_test_labels)\n",
    "suturing_train_labels = to_categorical(suturing_train_labels)\n",
    "suturing_test_labels = to_categorical(suturing_test_labels)"
   ]
  },
  {
   "cell_type": "markdown",
   "metadata": {},
   "source": [
    "## Modeling"
   ]
  },
  {
   "cell_type": "markdown",
   "metadata": {},
   "source": [
    "### SimpleRNN"
   ]
  },
  {
   "cell_type": "markdown",
   "metadata": {},
   "source": [
    "##### Knot_tying"
   ]
  },
  {
   "cell_type": "code",
   "execution_count": 10,
   "metadata": {},
   "outputs": [],
   "source": [
    "from tensorflow.keras import layers\n",
    "from tensorflow.keras import models\n",
    "\n",
    "model = models.Sequential()\n",
    "model.add(layers.SimpleRNN(units = 8, # dimension of output space\n",
    "                           input_shape=(knot_tying_train_data.shape[1], knot_tying_train_data.shape[2])))\n",
    "model.add(layers.Dense(3, activation='sigmoid'))"
   ]
  },
  {
   "cell_type": "code",
   "execution_count": 11,
   "metadata": {},
   "outputs": [],
   "source": [
    "model.compile(optimizer='rmsprop', loss='categorical_crossentropy', metrics=['accuracy'])"
   ]
  },
  {
   "cell_type": "code",
   "execution_count": 12,
   "metadata": {
    "scrolled": true
   },
   "outputs": [
    {
     "name": "stdout",
     "output_type": "stream",
     "text": [
      "Train on 3307 samples, validate on 827 samples\n",
      "Epoch 1/50\n",
      "3307/3307 [==============================] - 4s 1ms/sample - loss: 1.1109 - accuracy: 0.3750 - val_loss: 1.0851 - val_accuracy: 0.4063\n",
      "Epoch 2/50\n",
      "3307/3307 [==============================] - 1s 451us/sample - loss: 1.0657 - accuracy: 0.4264 - val_loss: 1.0506 - val_accuracy: 0.4583\n",
      "Epoch 3/50\n",
      "3307/3307 [==============================] - 2s 463us/sample - loss: 1.0336 - accuracy: 0.4865 - val_loss: 1.0278 - val_accuracy: 0.4958\n",
      "Epoch 4/50\n",
      "3307/3307 [==============================] - 1s 423us/sample - loss: 1.0096 - accuracy: 0.5162 - val_loss: 1.0101 - val_accuracy: 0.5163\n",
      "Epoch 5/50\n",
      "3307/3307 [==============================] - 1s 413us/sample - loss: 0.9909 - accuracy: 0.5268 - val_loss: 0.9970 - val_accuracy: 0.5236\n",
      "Epoch 6/50\n",
      "3307/3307 [==============================] - 1s 402us/sample - loss: 0.9752 - accuracy: 0.5437 - val_loss: 0.9849 - val_accuracy: 0.5345\n",
      "Epoch 7/50\n",
      "3307/3307 [==============================] - 1s 404us/sample - loss: 0.9597 - accuracy: 0.5570 - val_loss: 0.9722 - val_accuracy: 0.5466\n",
      "Epoch 8/50\n",
      "3307/3307 [==============================] - 1s 407us/sample - loss: 0.9435 - accuracy: 0.5624 - val_loss: 0.9572 - val_accuracy: 0.5526\n",
      "Epoch 9/50\n",
      "3307/3307 [==============================] - 1s 398us/sample - loss: 0.9254 - accuracy: 0.5640 - val_loss: 0.9375 - val_accuracy: 0.5635\n",
      "Epoch 10/50\n",
      "3307/3307 [==============================] - 1s 401us/sample - loss: 0.9049 - accuracy: 0.5767 - val_loss: 0.9171 - val_accuracy: 0.5719\n",
      "Epoch 11/50\n",
      "3307/3307 [==============================] - 1s 423us/sample - loss: 0.8812 - accuracy: 0.5866 - val_loss: 0.8933 - val_accuracy: 0.5852\n",
      "Epoch 12/50\n",
      "3307/3307 [==============================] - 1s 379us/sample - loss: 0.8470 - accuracy: 0.6087 - val_loss: 0.8524 - val_accuracy: 0.6155\n",
      "Epoch 13/50\n",
      "3307/3307 [==============================] - 1s 398us/sample - loss: 0.8163 - accuracy: 0.6290 - val_loss: 0.8220 - val_accuracy: 0.6264\n",
      "Epoch 14/50\n",
      "3307/3307 [==============================] - 1s 383us/sample - loss: 0.7895 - accuracy: 0.6456 - val_loss: 0.7800 - val_accuracy: 0.6421\n",
      "Epoch 15/50\n",
      "3307/3307 [==============================] - 1s 378us/sample - loss: 0.7398 - accuracy: 0.6704 - val_loss: 0.7262 - val_accuracy: 0.6711\n",
      "Epoch 16/50\n",
      "3307/3307 [==============================] - 1s 379us/sample - loss: 0.6871 - accuracy: 0.6985 - val_loss: 0.7053 - val_accuracy: 0.6759\n",
      "Epoch 17/50\n",
      "3307/3307 [==============================] - 1s 386us/sample - loss: 0.6637 - accuracy: 0.7040 - val_loss: 0.6813 - val_accuracy: 0.6832\n",
      "Epoch 18/50\n",
      "3307/3307 [==============================] - 1s 377us/sample - loss: 0.6455 - accuracy: 0.7024 - val_loss: 0.6684 - val_accuracy: 0.6844\n",
      "Epoch 19/50\n",
      "3307/3307 [==============================] - 1s 382us/sample - loss: 0.6218 - accuracy: 0.7085 - val_loss: 0.6780 - val_accuracy: 0.6856\n",
      "Epoch 20/50\n",
      "3307/3307 [==============================] - 1s 382us/sample - loss: 0.6190 - accuracy: 0.7121 - val_loss: 0.6410 - val_accuracy: 0.7001\n",
      "Epoch 21/50\n",
      "3307/3307 [==============================] - 1s 383us/sample - loss: 0.5894 - accuracy: 0.7227 - val_loss: 0.6347 - val_accuracy: 0.7001\n",
      "Epoch 22/50\n",
      "3307/3307 [==============================] - 1s 378us/sample - loss: 0.5838 - accuracy: 0.7251 - val_loss: 0.6447 - val_accuracy: 0.7062\n",
      "Epoch 23/50\n",
      "3307/3307 [==============================] - 1s 418us/sample - loss: 0.5812 - accuracy: 0.7297 - val_loss: 0.6102 - val_accuracy: 0.7219\n",
      "Epoch 24/50\n",
      "3307/3307 [==============================] - 1s 400us/sample - loss: 0.5718 - accuracy: 0.7330 - val_loss: 0.5802 - val_accuracy: 0.7352\n",
      "Epoch 25/50\n",
      "3307/3307 [==============================] - 1s 451us/sample - loss: 0.5699 - accuracy: 0.7348 - val_loss: 0.5729 - val_accuracy: 0.7376\n",
      "Epoch 26/50\n",
      "3307/3307 [==============================] - 1s 407us/sample - loss: 0.5645 - accuracy: 0.7312 - val_loss: 0.5496 - val_accuracy: 0.7364\n",
      "Epoch 27/50\n",
      "3307/3307 [==============================] - 1s 383us/sample - loss: 0.5511 - accuracy: 0.7327 - val_loss: 0.5593 - val_accuracy: 0.7449\n",
      "Epoch 28/50\n",
      "3307/3307 [==============================] - 1s 388us/sample - loss: 0.5427 - accuracy: 0.7330 - val_loss: 0.5872 - val_accuracy: 0.7340\n",
      "Epoch 29/50\n",
      "3307/3307 [==============================] - 1s 386us/sample - loss: 0.5439 - accuracy: 0.7372 - val_loss: 0.5576 - val_accuracy: 0.7461\n",
      "Epoch 30/50\n",
      "3307/3307 [==============================] - 1s 382us/sample - loss: 0.5314 - accuracy: 0.7387 - val_loss: 0.5702 - val_accuracy: 0.7437\n",
      "Epoch 31/50\n",
      "3307/3307 [==============================] - 1s 382us/sample - loss: 0.5280 - accuracy: 0.7378 - val_loss: 0.5478 - val_accuracy: 0.7485\n",
      "Epoch 32/50\n",
      "3307/3307 [==============================] - 1s 383us/sample - loss: 0.5152 - accuracy: 0.7412 - val_loss: 0.5195 - val_accuracy: 0.7509\n",
      "Epoch 33/50\n",
      "3307/3307 [==============================] - 1s 384us/sample - loss: 0.5075 - accuracy: 0.7463 - val_loss: 0.5306 - val_accuracy: 0.7497\n",
      "Epoch 34/50\n",
      "3307/3307 [==============================] - 1s 386us/sample - loss: 0.4941 - accuracy: 0.7499 - val_loss: 0.5252 - val_accuracy: 0.7509\n",
      "Epoch 35/50\n",
      "3307/3307 [==============================] - 1s 425us/sample - loss: 0.4991 - accuracy: 0.7502 - val_loss: 0.5162 - val_accuracy: 0.7461\n",
      "Epoch 36/50\n",
      "3307/3307 [==============================] - 1s 412us/sample - loss: 0.4902 - accuracy: 0.7551 - val_loss: 0.4924 - val_accuracy: 0.7594\n",
      "Epoch 37/50\n",
      "3307/3307 [==============================] - 1s 385us/sample - loss: 0.4674 - accuracy: 0.7620 - val_loss: 0.4842 - val_accuracy: 0.7582\n",
      "Epoch 38/50\n",
      "3307/3307 [==============================] - ETA: 0s - loss: 0.4609 - accuracy: 0.76 - 1s 406us/sample - loss: 0.4619 - accuracy: 0.7617 - val_loss: 0.4836 - val_accuracy: 0.7570\n",
      "Epoch 39/50\n",
      "3307/3307 [==============================] - 1s 384us/sample - loss: 0.4549 - accuracy: 0.7611 - val_loss: 0.4778 - val_accuracy: 0.7618\n",
      "Epoch 40/50\n",
      "3307/3307 [==============================] - 1s 381us/sample - loss: 0.4475 - accuracy: 0.7626 - val_loss: 0.4931 - val_accuracy: 0.7582\n",
      "Epoch 41/50\n",
      "3307/3307 [==============================] - 1s 385us/sample - loss: 0.4524 - accuracy: 0.7620 - val_loss: 0.5027 - val_accuracy: 0.7606\n",
      "Epoch 42/50\n",
      "3307/3307 [==============================] - 1s 383us/sample - loss: 0.4461 - accuracy: 0.7617 - val_loss: 0.4956 - val_accuracy: 0.7533\n",
      "Epoch 43/50\n",
      "3307/3307 [==============================] - 1s 382us/sample - loss: 0.4340 - accuracy: 0.7690 - val_loss: 0.4666 - val_accuracy: 0.7678\n",
      "Epoch 44/50\n",
      "3307/3307 [==============================] - 1s 388us/sample - loss: 0.4224 - accuracy: 0.7726 - val_loss: 0.4575 - val_accuracy: 0.7666\n",
      "Epoch 45/50\n",
      "3307/3307 [==============================] - 1s 381us/sample - loss: 0.4215 - accuracy: 0.7723 - val_loss: 0.4818 - val_accuracy: 0.7630\n",
      "Epoch 46/50\n",
      "3307/3307 [==============================] - 1s 378us/sample - loss: 0.4188 - accuracy: 0.7723 - val_loss: 0.4581 - val_accuracy: 0.7642\n",
      "Epoch 47/50\n",
      "3307/3307 [==============================] - 1s 377us/sample - loss: 0.4160 - accuracy: 0.7741 - val_loss: 0.4863 - val_accuracy: 0.7666\n",
      "Epoch 48/50\n",
      "3307/3307 [==============================] - 1s 437us/sample - loss: 0.4277 - accuracy: 0.7696 - val_loss: 0.4851 - val_accuracy: 0.7570\n",
      "Epoch 49/50\n",
      "3307/3307 [==============================] - 1s 387us/sample - loss: 0.4112 - accuracy: 0.7726 - val_loss: 0.4611 - val_accuracy: 0.7642\n",
      "Epoch 50/50\n",
      "3307/3307 [==============================] - 1s 402us/sample - loss: 0.4299 - accuracy: 0.7705 - val_loss: 0.4772 - val_accuracy: 0.7618\n"
     ]
    }
   ],
   "source": [
    "history = model.fit(knot_tying_train_data, knot_tying_train_labels,\n",
    "                    epochs=50,\n",
    "                    batch_size=32,\n",
    "                    validation_data=(knot_tying_test_data, knot_tying_test_labels)\n",
    "                   )"
   ]
  },
  {
   "cell_type": "code",
   "execution_count": 14,
   "metadata": {},
   "outputs": [
    {
     "data": {
      "text/plain": [
       "<Figure size 432x288 with 0 Axes>"
      ]
     },
     "execution_count": 14,
     "metadata": {},
     "output_type": "execute_result"
    },
    {
     "data": {
      "image/png": "[encoded data removed]",
      "text/plain": [
       "<Figure size 432x288 with 1 Axes>"
      ]
     },
     "metadata": {
      "needs_background": "light"
     },
     "output_type": "display_data"
    },
    {
     "data": {
      "image/png": "[encoded data removed]",
      "text/plain": [
       "<Figure size 432x288 with 1 Axes>"
      ]
     },
     "metadata": {
      "needs_background": "light"
     },
     "output_type": "display_data"
    },
    {
     "data": {
      "text/plain": [
       "<Figure size 432x288 with 0 Axes>"
      ]
     },
     "metadata": {},
     "output_type": "display_data"
    }
   ],
   "source": [
    "import matplotlib.pyplot as plt\n",
    "\n",
    "# Accuracy and loss\n",
    "acc = history.history['accuracy']\n",
    "val_acc = history.history['val_accuracy']\n",
    "loss = history.history['loss']\n",
    "val_loss = history.history['val_loss']\n",
    "\n",
    "epochs = range(1, len(acc) + 1)\n",
    "\n",
    "# Plot Loss\n",
    "plt.plot(epochs, loss, 'bo', label='Training loss')\n",
    "plt.plot(epochs, val_loss, 'orange', label = 'Validation loss')\n",
    "plt.title('Training and Validation Loss')\n",
    "plt.legend()\n",
    "\n",
    "plt.figure()\n",
    "\n",
    "# Plot Accuracy\n",
    "plt.plot(epochs, acc, 'bo', label='Training accuracy')\n",
    "plt.plot(epochs, val_acc, 'orange', label = 'Validation accuracy')\n",
    "plt.title('Training and Validation Accuracy')\n",
    "plt.legend()\n",
    "plt.figure()"
   ]
  },
  {
   "cell_type": "markdown",
   "metadata": {},
   "source": [
    "##### Needle_Passing"
   ]
  },
  {
   "cell_type": "code",
   "execution_count": 15,
   "metadata": {},
   "outputs": [],
   "source": [
    "model2 = models.Sequential()\n",
    "model2.add(layers.SimpleRNN(units = 8, # dimension of output space\n",
    "                           input_shape=(needle_passing_train_data.shape[1], needle_passing_train_data.shape[2])))\n",
    "model2.add(layers.Dense(3, activation='sigmoid'))"
   ]
  },
  {
   "cell_type": "code",
   "execution_count": 16,
   "metadata": {},
   "outputs": [
    {
     "name": "stdout",
     "output_type": "stream",
     "text": [
      "Model: \"sequential_1\"\n",
      "_________________________________________________________________\n",
      "Layer (type)                 Output Shape              Param #   \n",
      "=================================================================\n",
      "simple_rnn_1 (SimpleRNN)     (None, 8)                 376       \n",
      "_________________________________________________________________\n",
      "dense_1 (Dense)              (None, 3)                 27        \n",
      "=================================================================\n",
      "Total params: 403\n",
      "Trainable params: 403\n",
      "Non-trainable params: 0\n",
      "_________________________________________________________________\n"
     ]
    }
   ],
   "source": [
    "model2.summary()"
   ]
  },
  {
   "cell_type": "code",
   "execution_count": 17,
   "metadata": {},
   "outputs": [],
   "source": [
    "model2.compile(optimizer='rmsprop', loss='categorical_crossentropy', metrics=['accuracy'])"
   ]
  },
  {
   "cell_type": "code",
   "execution_count": 18,
   "metadata": {},
   "outputs": [
    {
     "name": "stdout",
     "output_type": "stream",
     "text": [
      "Train on 4841 samples, validate on 1211 samples\n",
      "Epoch 1/50\n",
      "4841/4841 [==============================] - 4s 847us/sample - loss: 1.1318 - accuracy: 0.3247 - val_loss: 1.1078 - val_accuracy: 0.3443\n",
      "Epoch 2/50\n",
      "4841/4841 [==============================] - 2s 447us/sample - loss: 1.0965 - accuracy: 0.3611 - val_loss: 1.0879 - val_accuracy: 0.3906\n",
      "Epoch 3/50\n",
      "4841/4841 [==============================] - 2s 428us/sample - loss: 1.0790 - accuracy: 0.3815 - val_loss: 1.0750 - val_accuracy: 0.4046\n",
      "Epoch 4/50\n",
      "4841/4841 [==============================] - 2s 419us/sample - loss: 1.0666 - accuracy: 0.4001 - val_loss: 1.0654 - val_accuracy: 0.4154\n",
      "Epoch 5/50\n",
      "4841/4841 [==============================] - 2s 431us/sample - loss: 1.0561 - accuracy: 0.4214 - val_loss: 1.0555 - val_accuracy: 0.4261\n",
      "Epoch 6/50\n",
      "4841/4841 [==============================] - 2s 389us/sample - loss: 1.0443 - accuracy: 0.4390 - val_loss: 1.0444 - val_accuracy: 0.4426\n",
      "Epoch 7/50\n",
      "4841/4841 [==============================] - 2s 394us/sample - loss: 1.0305 - accuracy: 0.4522 - val_loss: 1.0294 - val_accuracy: 0.4517\n",
      "Epoch 8/50\n",
      "4841/4841 [==============================] - 2s 421us/sample - loss: 1.0117 - accuracy: 0.4664 - val_loss: 1.0091 - val_accuracy: 0.4798\n",
      "Epoch 9/50\n",
      "4841/4841 [==============================] - 2s 395us/sample - loss: 0.9882 - accuracy: 0.4794 - val_loss: 0.9860 - val_accuracy: 0.4864\n",
      "Epoch 10/50\n",
      "4841/4841 [==============================] - 2s 403us/sample - loss: 0.9575 - accuracy: 0.4976 - val_loss: 0.9512 - val_accuracy: 0.5095\n",
      "Epoch 11/50\n",
      "4841/4841 [==============================] - 2s 394us/sample - loss: 0.9135 - accuracy: 0.5290 - val_loss: 0.9106 - val_accuracy: 0.5318\n",
      "Epoch 12/50\n",
      "4841/4841 [==============================] - 2s 389us/sample - loss: 0.8619 - accuracy: 0.5559 - val_loss: 0.8597 - val_accuracy: 0.5615\n",
      "Epoch 13/50\n",
      "4841/4841 [==============================] - 2s 389us/sample - loss: 0.8093 - accuracy: 0.5881 - val_loss: 0.8257 - val_accuracy: 0.5912\n",
      "Epoch 14/50\n",
      "4841/4841 [==============================] - 2s 390us/sample - loss: 0.7632 - accuracy: 0.6166 - val_loss: 0.7718 - val_accuracy: 0.6152\n",
      "Epoch 15/50\n",
      "4841/4841 [==============================] - 2s 390us/sample - loss: 0.7302 - accuracy: 0.6455 - val_loss: 0.7361 - val_accuracy: 0.6350\n",
      "Epoch 16/50\n",
      "4841/4841 [==============================] - 2s 430us/sample - loss: 0.6943 - accuracy: 0.6652 - val_loss: 0.7006 - val_accuracy: 0.6598\n",
      "Epoch 17/50\n",
      "4841/4841 [==============================] - 2s 369us/sample - loss: 0.6547 - accuracy: 0.6786 - val_loss: 0.6626 - val_accuracy: 0.6738\n",
      "Epoch 18/50\n",
      "4841/4841 [==============================] - 2s 388us/sample - loss: 0.6426 - accuracy: 0.6881 - val_loss: 0.6540 - val_accuracy: 0.6887\n",
      "Epoch 19/50\n",
      "4841/4841 [==============================] - 2s 374us/sample - loss: 0.6243 - accuracy: 0.7019 - val_loss: 0.6183 - val_accuracy: 0.6969\n",
      "Epoch 20/50\n",
      "4841/4841 [==============================] - 2s 373us/sample - loss: 0.5992 - accuracy: 0.7120 - val_loss: 0.5912 - val_accuracy: 0.7143\n",
      "Epoch 21/50\n",
      "4841/4841 [==============================] - 2s 368us/sample - loss: 0.5891 - accuracy: 0.7147 - val_loss: 0.6257 - val_accuracy: 0.6961\n",
      "Epoch 22/50\n",
      "4841/4841 [==============================] - 2s 384us/sample - loss: 0.5859 - accuracy: 0.7149 - val_loss: 0.6020 - val_accuracy: 0.7019\n",
      "Epoch 23/50\n",
      "4841/4841 [==============================] - 2s 383us/sample - loss: 0.5706 - accuracy: 0.7182 - val_loss: 0.5736 - val_accuracy: 0.7143\n",
      "Epoch 24/50\n",
      "4841/4841 [==============================] - 2s 423us/sample - loss: 0.5603 - accuracy: 0.7230 - val_loss: 0.5767 - val_accuracy: 0.7135\n",
      "Epoch 25/50\n",
      "4841/4841 [==============================] - 2s 396us/sample - loss: 0.5645 - accuracy: 0.7195 - val_loss: 0.5639 - val_accuracy: 0.7168\n",
      "Epoch 26/50\n",
      "4841/4841 [==============================] - 2s 386us/sample - loss: 0.5484 - accuracy: 0.7275 - val_loss: 0.5563 - val_accuracy: 0.7201\n",
      "Epoch 27/50\n",
      "4841/4841 [==============================] - 2s 372us/sample - loss: 0.5375 - accuracy: 0.7300 - val_loss: 0.5564 - val_accuracy: 0.7275\n",
      "Epoch 28/50\n",
      "4841/4841 [==============================] - 2s 377us/sample - loss: 0.5263 - accuracy: 0.7319 - val_loss: 0.5427 - val_accuracy: 0.7275\n",
      "Epoch 29/50\n",
      "4841/4841 [==============================] - 2s 372us/sample - loss: 0.5364 - accuracy: 0.7263 - val_loss: 0.5494 - val_accuracy: 0.7201\n",
      "Epoch 30/50\n",
      "4841/4841 [==============================] - 2s 369us/sample - loss: 0.5225 - accuracy: 0.7298 - val_loss: 0.5478 - val_accuracy: 0.7168\n",
      "Epoch 31/50\n",
      "4841/4841 [==============================] - 2s 389us/sample - loss: 0.5145 - accuracy: 0.7304 - val_loss: 0.5595 - val_accuracy: 0.7135\n",
      "Epoch 32/50\n",
      "4841/4841 [==============================] - 2s 376us/sample - loss: 0.5303 - accuracy: 0.7222 - val_loss: 0.5289 - val_accuracy: 0.7159\n",
      "Epoch 33/50\n",
      "4841/4841 [==============================] - 2s 406us/sample - loss: 0.5161 - accuracy: 0.7242 - val_loss: 0.5647 - val_accuracy: 0.7036\n",
      "Epoch 34/50\n",
      "4841/4841 [==============================] - 2s 374us/sample - loss: 0.5138 - accuracy: 0.7242 - val_loss: 0.5262 - val_accuracy: 0.7135\n",
      "Epoch 35/50\n",
      "4841/4841 [==============================] - 2s 390us/sample - loss: 0.5079 - accuracy: 0.7251 - val_loss: 0.5246 - val_accuracy: 0.7176\n",
      "Epoch 36/50\n",
      "4841/4841 [==============================] - 2s 387us/sample - loss: 0.5025 - accuracy: 0.7269 - val_loss: 0.5054 - val_accuracy: 0.7217\n",
      "Epoch 37/50\n",
      "4841/4841 [==============================] - 2s 370us/sample - loss: 0.4992 - accuracy: 0.7279 - val_loss: 0.4902 - val_accuracy: 0.7300\n",
      "Epoch 38/50\n",
      "4841/4841 [==============================] - 2s 373us/sample - loss: 0.4784 - accuracy: 0.7344 - val_loss: 0.5064 - val_accuracy: 0.7267\n",
      "Epoch 39/50\n",
      "4841/4841 [==============================] - 2s 375us/sample - loss: 0.5062 - accuracy: 0.7253 - val_loss: 0.5155 - val_accuracy: 0.7217\n",
      "Epoch 40/50\n",
      "4841/4841 [==============================] - 2s 370us/sample - loss: 0.4995 - accuracy: 0.7251 - val_loss: 0.4941 - val_accuracy: 0.7300\n",
      "Epoch 41/50\n",
      "4841/4841 [==============================] - 2s 426us/sample - loss: 0.4828 - accuracy: 0.7290 - val_loss: 0.5210 - val_accuracy: 0.7209\n",
      "Epoch 42/50\n",
      "4841/4841 [==============================] - 2s 446us/sample - loss: 0.4955 - accuracy: 0.7253 - val_loss: 0.4994 - val_accuracy: 0.7242\n",
      "Epoch 43/50\n",
      "4841/4841 [==============================] - 2s 389us/sample - loss: 0.4885 - accuracy: 0.7253 - val_loss: 0.4957 - val_accuracy: 0.7250\n",
      "Epoch 44/50\n",
      "4841/4841 [==============================] - 2s 403us/sample - loss: 0.4880 - accuracy: 0.7251 - val_loss: 0.5048 - val_accuracy: 0.7250\n",
      "Epoch 45/50\n",
      "4841/4841 [==============================] - 2s 417us/sample - loss: 0.4678 - accuracy: 0.7323 - val_loss: 0.4862 - val_accuracy: 0.7267\n",
      "Epoch 46/50\n",
      "4841/4841 [==============================] - 2s 413us/sample - loss: 0.4466 - accuracy: 0.7401 - val_loss: 0.4842 - val_accuracy: 0.7258\n",
      "Epoch 47/50\n",
      "4841/4841 [==============================] - 2s 377us/sample - loss: 0.4647 - accuracy: 0.7337 - val_loss: 0.4730 - val_accuracy: 0.7283\n",
      "Epoch 48/50\n",
      "4841/4841 [==============================] - 2s 377us/sample - loss: 0.4627 - accuracy: 0.7346 - val_loss: 0.4953 - val_accuracy: 0.7258\n",
      "Epoch 49/50\n",
      "4841/4841 [==============================] - 2s 392us/sample - loss: 0.4476 - accuracy: 0.7372 - val_loss: 0.4929 - val_accuracy: 0.7217\n",
      "Epoch 50/50\n",
      "4841/4841 [==============================] - 2s 419us/sample - loss: 0.4459 - accuracy: 0.7389 - val_loss: 0.4799 - val_accuracy: 0.7325\n"
     ]
    }
   ],
   "source": [
    "history2 = model2.fit(needle_passing_train_data, needle_passing_train_labels,\n",
    "                    epochs=50,\n",
    "                    batch_size=32, # comparable with 16\n",
    "                    validation_data=(needle_passing_test_data, needle_passing_test_labels)\n",
    "                   )"
   ]
  },
  {
   "cell_type": "code",
   "execution_count": 19,
   "metadata": {},
   "outputs": [
    {
     "data": {
      "text/plain": [
       "<Figure size 432x288 with 0 Axes>"
      ]
     },
     "execution_count": 19,
     "metadata": {},
     "output_type": "execute_result"
    },
    {
     "data": {
      "image/png": "[encoded data removed]",
      "text/plain": [
       "<Figure size 432x288 with 1 Axes>"
      ]
     },
     "metadata": {
      "needs_background": "light"
     },
     "output_type": "display_data"
    },
    {
     "data": {
      "image/png": "[encoded data removed]",
      "text/plain": [
       "<Figure size 432x288 with 1 Axes>"
      ]
     },
     "metadata": {
      "needs_background": "light"
     },
     "output_type": "display_data"
    },
    {
     "data": {
      "text/plain": [
       "<Figure size 432x288 with 0 Axes>"
      ]
     },
     "metadata": {},
     "output_type": "display_data"
    }
   ],
   "source": [
    "# Accuracy and loss\n",
    "acc2 = history2.history['accuracy']\n",
    "val_acc2 = history2.history['val_accuracy']\n",
    "loss2 = history2.history['loss']\n",
    "val_loss2 = history2.history['val_loss']\n",
    "\n",
    "epochs2 = range(1, len(acc2) + 1)\n",
    "\n",
    "# Plot Loss\n",
    "plt.plot(epochs2, loss2, 'bo', label='Training loss')\n",
    "plt.plot(epochs2, val_loss2, 'orange', label = 'Validation loss')\n",
    "plt.title('Training and Validation Loss')\n",
    "plt.legend()\n",
    "\n",
    "plt.figure()\n",
    "\n",
    "# Plot Accuracy\n",
    "plt.plot(epochs2, acc2, 'bo', label='Training accuracy')\n",
    "plt.plot(epochs2, val_acc2, 'orange', label = 'Validation accuracy')\n",
    "plt.title('Training and Validation Accuracy')\n",
    "plt.legend()\n",
    "\n",
    "plt.figure()"
   ]
  },
  {
   "cell_type": "markdown",
   "metadata": {},
   "source": [
    "##### Suturing"
   ]
  },
  {
   "cell_type": "code",
   "execution_count": 20,
   "metadata": {},
   "outputs": [],
   "source": [
    "model3 = models.Sequential()\n",
    "model3.add(layers.SimpleRNN(units = 8, # dimension of output space\n",
    "                           input_shape=(suturing_train_data.shape[1], suturing_train_data.shape[2])))\n",
    "model3.add(layers.Dense(3, activation='sigmoid'))"
   ]
  },
  {
   "cell_type": "code",
   "execution_count": 21,
   "metadata": {},
   "outputs": [
    {
     "name": "stdout",
     "output_type": "stream",
     "text": [
      "Model: \"sequential_2\"\n",
      "_________________________________________________________________\n",
      "Layer (type)                 Output Shape              Param #   \n",
      "=================================================================\n",
      "simple_rnn_2 (SimpleRNN)     (None, 8)                 376       \n",
      "_________________________________________________________________\n",
      "dense_2 (Dense)              (None, 3)                 27        \n",
      "=================================================================\n",
      "Total params: 403\n",
      "Trainable params: 403\n",
      "Non-trainable params: 0\n",
      "_________________________________________________________________\n"
     ]
    }
   ],
   "source": [
    "model3.summary()"
   ]
  },
  {
   "cell_type": "code",
   "execution_count": 22,
   "metadata": {},
   "outputs": [],
   "source": [
    "model3.compile(optimizer='rmsprop', loss='categorical_crossentropy', metrics=['accuracy'])"
   ]
  },
  {
   "cell_type": "code",
   "execution_count": 23,
   "metadata": {},
   "outputs": [
    {
     "name": "stdout",
     "output_type": "stream",
     "text": [
      "Train on 7003 samples, validate on 1751 samples\n",
      "Epoch 1/50\n",
      "7003/7003 [==============================] - 4s 596us/sample - loss: 1.1002 - accuracy: 0.3940 - val_loss: 1.0539 - val_accuracy: 0.4717\n",
      "Epoch 2/50\n",
      "7003/7003 [==============================] - 3s 385us/sample - loss: 1.0052 - accuracy: 0.5433 - val_loss: 0.9818 - val_accuracy: 0.5802\n",
      "Epoch 3/50\n",
      "7003/7003 [==============================] - 3s 391us/sample - loss: 0.9478 - accuracy: 0.5899 - val_loss: 0.9376 - val_accuracy: 0.6014\n",
      "Epoch 4/50\n",
      "7003/7003 [==============================] - 3s 383us/sample - loss: 0.9046 - accuracy: 0.6057 - val_loss: 0.8944 - val_accuracy: 0.6179\n",
      "Epoch 5/50\n",
      "7003/7003 [==============================] - 3s 402us/sample - loss: 0.8518 - accuracy: 0.6324 - val_loss: 0.8336 - val_accuracy: 0.6453\n",
      "Epoch 6/50\n",
      "7003/7003 [==============================] - 3s 394us/sample - loss: 0.7931 - accuracy: 0.6593 - val_loss: 0.7777 - val_accuracy: 0.6693\n",
      "Epoch 7/50\n",
      "7003/7003 [==============================] - 3s 380us/sample - loss: 0.7417 - accuracy: 0.6764 - val_loss: 0.7318 - val_accuracy: 0.6802\n",
      "Epoch 8/50\n",
      "7003/7003 [==============================] - 3s 385us/sample - loss: 0.7046 - accuracy: 0.6900 - val_loss: 0.7020 - val_accuracy: 0.6819\n",
      "Epoch 9/50\n",
      "7003/7003 [==============================] - 3s 379us/sample - loss: 0.6776 - accuracy: 0.6974 - val_loss: 0.7003 - val_accuracy: 0.6836\n",
      "Epoch 10/50\n",
      "7003/7003 [==============================] - 3s 382us/sample - loss: 0.6740 - accuracy: 0.6963 - val_loss: 0.6981 - val_accuracy: 0.6779\n",
      "Epoch 11/50\n",
      "7003/7003 [==============================] - 3s 411us/sample - loss: 0.6557 - accuracy: 0.7000 - val_loss: 0.6808 - val_accuracy: 0.6830\n",
      "Epoch 12/50\n",
      "7003/7003 [==============================] - 3s 403us/sample - loss: 0.6369 - accuracy: 0.7021 - val_loss: 0.6503 - val_accuracy: 0.6916\n",
      "Epoch 13/50\n",
      "7003/7003 [==============================] - 3s 404us/sample - loss: 0.6343 - accuracy: 0.6960 - val_loss: 0.6425 - val_accuracy: 0.6933\n",
      "Epoch 14/50\n",
      "7003/7003 [==============================] - 3s 382us/sample - loss: 0.6485 - accuracy: 0.6813 - val_loss: 0.6690 - val_accuracy: 0.6653\n",
      "Epoch 15/50\n",
      "7003/7003 [==============================] - 3s 382us/sample - loss: 0.6339 - accuracy: 0.6803 - val_loss: 0.6584 - val_accuracy: 0.6613\n",
      "Epoch 16/50\n",
      "7003/7003 [==============================] - 3s 384us/sample - loss: 0.6076 - accuracy: 0.6940 - val_loss: 0.6415 - val_accuracy: 0.6853\n",
      "Epoch 17/50\n",
      "7003/7003 [==============================] - 3s 408us/sample - loss: 0.5839 - accuracy: 0.7113 - val_loss: 0.6122 - val_accuracy: 0.6922\n",
      "Epoch 18/50\n",
      "7003/7003 [==============================] - 3s 392us/sample - loss: 0.5811 - accuracy: 0.7107 - val_loss: 0.6002 - val_accuracy: 0.6939\n",
      "Epoch 19/50\n",
      "7003/7003 [==============================] - 3s 414us/sample - loss: 0.5740 - accuracy: 0.7111 - val_loss: 0.5686 - val_accuracy: 0.7122\n",
      "Epoch 20/50\n",
      "7003/7003 [==============================] - 3s 406us/sample - loss: 0.5378 - accuracy: 0.7305 - val_loss: 0.5606 - val_accuracy: 0.7207\n",
      "Epoch 21/50\n",
      "7003/7003 [==============================] - 3s 452us/sample - loss: 0.5390 - accuracy: 0.7247 - val_loss: 0.5718 - val_accuracy: 0.7202\n",
      "Epoch 22/50\n",
      "7003/7003 [==============================] - 3s 417us/sample - loss: 0.5512 - accuracy: 0.7220 - val_loss: 0.5524 - val_accuracy: 0.7287\n",
      "Epoch 23/50\n",
      "7003/7003 [==============================] - 3s 398us/sample - loss: 0.5361 - accuracy: 0.7287 - val_loss: 0.5787 - val_accuracy: 0.7065\n",
      "Epoch 24/50\n",
      "7003/7003 [==============================] - 3s 365us/sample - loss: 0.5272 - accuracy: 0.7293 - val_loss: 0.5301 - val_accuracy: 0.7350\n",
      "Epoch 25/50\n",
      "7003/7003 [==============================] - 2s 352us/sample - loss: 0.5286 - accuracy: 0.7271 - val_loss: 0.5373 - val_accuracy: 0.7207\n",
      "Epoch 26/50\n",
      "7003/7003 [==============================] - 2s 357us/sample - loss: 0.5223 - accuracy: 0.7270 - val_loss: 0.5259 - val_accuracy: 0.7327\n",
      "Epoch 27/50\n",
      "7003/7003 [==============================] - 2s 348us/sample - loss: 0.5106 - accuracy: 0.7343 - val_loss: 0.5161 - val_accuracy: 0.7379\n",
      "Epoch 28/50\n",
      "7003/7003 [==============================] - 2s 352us/sample - loss: 0.5033 - accuracy: 0.7410 - val_loss: 0.5119 - val_accuracy: 0.7419\n",
      "Epoch 29/50\n",
      "7003/7003 [==============================] - 3s 373us/sample - loss: 0.4965 - accuracy: 0.7400 - val_loss: 0.5156 - val_accuracy: 0.7282\n",
      "Epoch 30/50\n",
      "7003/7003 [==============================] - 3s 358us/sample - loss: 0.4779 - accuracy: 0.7440 - val_loss: 0.4934 - val_accuracy: 0.7362\n",
      "Epoch 31/50\n",
      "7003/7003 [==============================] - 2s 348us/sample - loss: 0.4852 - accuracy: 0.7447 - val_loss: 0.4896 - val_accuracy: 0.7527\n",
      "Epoch 32/50\n",
      "7003/7003 [==============================] - 2s 348us/sample - loss: 0.4811 - accuracy: 0.7465 - val_loss: 0.5032 - val_accuracy: 0.7339\n",
      "Epoch 33/50\n",
      "7003/7003 [==============================] - 2s 349us/sample - loss: 0.4701 - accuracy: 0.7528 - val_loss: 0.4734 - val_accuracy: 0.7470\n",
      "Epoch 34/50\n",
      "7003/7003 [==============================] - 2s 349us/sample - loss: 0.4688 - accuracy: 0.7494 - val_loss: 0.4885 - val_accuracy: 0.7424\n",
      "Epoch 35/50\n",
      "7003/7003 [==============================] - 3s 369us/sample - loss: 0.4727 - accuracy: 0.7447 - val_loss: 0.4713 - val_accuracy: 0.7521\n",
      "Epoch 36/50\n",
      "7003/7003 [==============================] - 2s 357us/sample - loss: 0.4716 - accuracy: 0.7497 - val_loss: 0.4742 - val_accuracy: 0.7419\n",
      "Epoch 37/50\n",
      "7003/7003 [==============================] - 2s 353us/sample - loss: 0.4640 - accuracy: 0.7508 - val_loss: 0.4857 - val_accuracy: 0.7441\n",
      "Epoch 38/50\n",
      "7003/7003 [==============================] - 2s 350us/sample - loss: 0.4573 - accuracy: 0.7508 - val_loss: 0.4829 - val_accuracy: 0.7453\n",
      "Epoch 39/50\n",
      "7003/7003 [==============================] - 2s 350us/sample - loss: 0.4565 - accuracy: 0.7564 - val_loss: 0.4802 - val_accuracy: 0.7493\n",
      "Epoch 40/50\n",
      "7003/7003 [==============================] - 2s 348us/sample - loss: 0.4517 - accuracy: 0.7551 - val_loss: 0.4618 - val_accuracy: 0.7424\n",
      "Epoch 41/50\n",
      "7003/7003 [==============================] - 2s 351us/sample - loss: 0.4449 - accuracy: 0.7542 - val_loss: 0.4770 - val_accuracy: 0.7453\n",
      "Epoch 42/50\n",
      "7003/7003 [==============================] - 3s 371us/sample - loss: 0.4493 - accuracy: 0.7544 - val_loss: 0.4842 - val_accuracy: 0.7419\n",
      "Epoch 43/50\n",
      "7003/7003 [==============================] - 3s 357us/sample - loss: 0.4593 - accuracy: 0.7488 - val_loss: 0.4621 - val_accuracy: 0.7464\n",
      "Epoch 44/50\n",
      "7003/7003 [==============================] - 2s 350us/sample - loss: 0.4416 - accuracy: 0.7602 - val_loss: 0.4590 - val_accuracy: 0.7481\n",
      "Epoch 45/50\n",
      "7003/7003 [==============================] - 2s 352us/sample - loss: 0.4436 - accuracy: 0.7552 - val_loss: 0.4717 - val_accuracy: 0.7464\n",
      "Epoch 46/50\n",
      "7003/7003 [==============================] - 2s 351us/sample - loss: 0.4332 - accuracy: 0.7597 - val_loss: 0.4690 - val_accuracy: 0.7430\n",
      "Epoch 47/50\n",
      "7003/7003 [==============================] - 2s 351us/sample - loss: 0.4285 - accuracy: 0.7621 - val_loss: 0.4580 - val_accuracy: 0.7453\n",
      "Epoch 48/50\n",
      "7003/7003 [==============================] - 3s 369us/sample - loss: 0.4192 - accuracy: 0.7674 - val_loss: 0.4637 - val_accuracy: 0.7527\n",
      "Epoch 49/50\n",
      "7003/7003 [==============================] - 3s 357us/sample - loss: 0.4235 - accuracy: 0.7654 - val_loss: 0.4714 - val_accuracy: 0.7447\n",
      "Epoch 50/50\n",
      "7003/7003 [==============================] - 2s 355us/sample - loss: 0.4166 - accuracy: 0.7688 - val_loss: 0.4596 - val_accuracy: 0.7441\n"
     ]
    }
   ],
   "source": [
    "history3 = model3.fit(suturing_train_data, suturing_train_labels,\n",
    "                    epochs=50,\n",
    "                    batch_size=32,\n",
    "                    validation_data=(suturing_test_data, suturing_test_labels)\n",
    "                   )"
   ]
  },
  {
   "cell_type": "code",
   "execution_count": 24,
   "metadata": {
    "scrolled": true
   },
   "outputs": [
    {
     "data": {
      "text/plain": [
       "<Figure size 432x288 with 0 Axes>"
      ]
     },
     "execution_count": 24,
     "metadata": {},
     "output_type": "execute_result"
    },
    {
     "data": {
      "image/png": "[encoded data removed]",
      "text/plain": [
       "<Figure size 432x288 with 1 Axes>"
      ]
     },
     "metadata": {
      "needs_background": "light"
     },
     "output_type": "display_data"
    },
    {
     "data": {
      "image/png": "[encoded data removed]",
      "text/plain": [
       "<Figure size 432x288 with 1 Axes>"
      ]
     },
     "metadata": {
      "needs_background": "light"
     },
     "output_type": "display_data"
    },
    {
     "data": {
      "text/plain": [
       "<Figure size 432x288 with 0 Axes>"
      ]
     },
     "metadata": {},
     "output_type": "display_data"
    }
   ],
   "source": [
    "# Accuracy and loss\n",
    "acc3 = history3.history['accuracy']\n",
    "val_acc3 = history3.history['val_accuracy']\n",
    "loss3 = history3.history['loss']\n",
    "val_loss3 = history3.history['val_loss']\n",
    "\n",
    "epochs3 = range(1, len(acc3) + 1)\n",
    "\n",
    "# Plot Loss\n",
    "plt.plot(epochs3, loss3, 'bo', label='Training loss')\n",
    "plt.plot(epochs3, val_loss3, 'orange', label = 'Validation loss')\n",
    "plt.title('Training and Validation Loss')\n",
    "plt.legend()\n",
    "\n",
    "plt.figure()\n",
    "\n",
    "# Plot Accuracy\n",
    "plt.plot(epochs3, acc3, 'bo', label='Training accuracy')\n",
    "plt.plot(epochs3, val_acc3, 'orange', label = 'Validation accuracy')\n",
    "plt.title('Training and Validation Accuracy')\n",
    "plt.legend()\n",
    "\n",
    "plt.figure()"
   ]
  },
  {
   "cell_type": "markdown",
   "metadata": {},
   "source": [
    "### DeepRNN"
   ]
  },
  {
   "cell_type": "markdown",
   "metadata": {},
   "source": [
    "##### Knot_tying"
   ]
  },
  {
   "cell_type": "code",
   "execution_count": 25,
   "metadata": {},
   "outputs": [],
   "source": [
    "model_deep = models.Sequential()\n",
    "model_deep.add(layers.SimpleRNN(units = 8, # dimension of output space\n",
    "                           input_shape=(knot_tying_train_data.shape[1], knot_tying_train_data.shape[2]),\n",
    "                               return_sequences=True))\n",
    "model_deep.add(layers.SimpleRNN(units = 8)) # dimension of output space\n",
    "model_deep.add(layers.Dense(3, activation='sigmoid'))"
   ]
  },
  {
   "cell_type": "code",
   "execution_count": 26,
   "metadata": {},
   "outputs": [],
   "source": [
    "model_deep.compile(optimizer='rmsprop', loss='categorical_crossentropy', metrics=['accuracy'])"
   ]
  },
  {
   "cell_type": "code",
   "execution_count": 27,
   "metadata": {
    "scrolled": true
   },
   "outputs": [
    {
     "name": "stdout",
     "output_type": "stream",
     "text": [
      "Train on 3307 samples, validate on 827 samples\n",
      "Epoch 1/50\n",
      "3307/3307 [==============================] - 5s 1ms/sample - loss: 1.1116 - accuracy: 0.3559 - val_loss: 1.0852 - val_accuracy: 0.3688\n",
      "Epoch 2/50\n",
      "3307/3307 [==============================] - 2s 691us/sample - loss: 1.0637 - accuracy: 0.4370 - val_loss: 1.0553 - val_accuracy: 0.4607\n",
      "Epoch 3/50\n",
      "3307/3307 [==============================] - 2s 702us/sample - loss: 1.0304 - accuracy: 0.5044 - val_loss: 1.0291 - val_accuracy: 0.5054\n",
      "Epoch 4/50\n",
      "3307/3307 [==============================] - 2s 719us/sample - loss: 1.0013 - accuracy: 0.5325 - val_loss: 1.0059 - val_accuracy: 0.5236\n",
      "Epoch 5/50\n",
      "3307/3307 [==============================] - 2s 686us/sample - loss: 0.9711 - accuracy: 0.5488 - val_loss: 0.9675 - val_accuracy: 0.5369\n",
      "Epoch 6/50\n",
      "3307/3307 [==============================] - 2s 655us/sample - loss: 0.9166 - accuracy: 0.5694 - val_loss: 0.9351 - val_accuracy: 0.5671\n",
      "Epoch 7/50\n",
      "3307/3307 [==============================] - 2s 656us/sample - loss: 0.8954 - accuracy: 0.5827 - val_loss: 0.8972 - val_accuracy: 0.5828s: 0.8990 - ac\n",
      "Epoch 8/50\n",
      "3307/3307 [==============================] - 2s 657us/sample - loss: 0.8647 - accuracy: 0.6142 - val_loss: 0.8725 - val_accuracy: 0.6264\n",
      "Epoch 9/50\n",
      "3307/3307 [==============================] - 2s 657us/sample - loss: 0.8201 - accuracy: 0.6516 - val_loss: 0.8192 - val_accuracy: 0.6542\n",
      "Epoch 10/50\n",
      "3307/3307 [==============================] - 2s 657us/sample - loss: 0.7836 - accuracy: 0.6783 - val_loss: 0.7783 - val_accuracy: 0.6820\n",
      "Epoch 11/50\n",
      "3307/3307 [==============================] - 2s 722us/sample - loss: 0.7551 - accuracy: 0.6897 - val_loss: 0.7677 - val_accuracy: 0.6880\n",
      "Epoch 12/50\n",
      "3307/3307 [==============================] - 2s 684us/sample - loss: 0.7560 - accuracy: 0.6985 - val_loss: 0.7756 - val_accuracy: 0.6904\n",
      "Epoch 13/50\n",
      "3307/3307 [==============================] - 3s 868us/sample - loss: 0.7224 - accuracy: 0.7112 - val_loss: 0.7045 - val_accuracy: 0.7158\n",
      "Epoch 14/50\n",
      "3307/3307 [==============================] - 3s 817us/sample - loss: 0.6850 - accuracy: 0.7179 - val_loss: 0.7197 - val_accuracy: 0.7098\n",
      "Epoch 15/50\n",
      "3307/3307 [==============================] - 3s 816us/sample - loss: 0.6849 - accuracy: 0.7176 - val_loss: 0.7021 - val_accuracy: 0.7170\n",
      "Epoch 16/50\n",
      "3307/3307 [==============================] - 3s 770us/sample - loss: 0.6675 - accuracy: 0.7266 - val_loss: 0.6704 - val_accuracy: 0.7267\n",
      "Epoch 17/50\n",
      "3307/3307 [==============================] - 3s 866us/sample - loss: 0.6450 - accuracy: 0.7348 - val_loss: 0.6963 - val_accuracy: 0.7243\n",
      "Epoch 18/50\n",
      "3307/3307 [==============================] - 3s 856us/sample - loss: 0.6380 - accuracy: 0.7324 - val_loss: 0.6428 - val_accuracy: 0.7340\n",
      "Epoch 19/50\n",
      "3307/3307 [==============================] - 3s 765us/sample - loss: 0.6320 - accuracy: 0.7309 - val_loss: 0.6383 - val_accuracy: 0.7328\n",
      "Epoch 20/50\n",
      "3307/3307 [==============================] - 3s 836us/sample - loss: 0.6032 - accuracy: 0.7402 - val_loss: 0.6135 - val_accuracy: 0.7424\n",
      "Epoch 21/50\n",
      "3307/3307 [==============================] - 2s 696us/sample - loss: 0.5961 - accuracy: 0.7445 - val_loss: 0.6023 - val_accuracy: 0.7461\n",
      "Epoch 22/50\n",
      "3307/3307 [==============================] - 2s 746us/sample - loss: 0.5946 - accuracy: 0.7427 - val_loss: 0.5883 - val_accuracy: 0.7461\n",
      "Epoch 23/50\n",
      "3307/3307 [==============================] - 2s 749us/sample - loss: 0.5661 - accuracy: 0.7481 - val_loss: 0.5795 - val_accuracy: 0.7485\n",
      "Epoch 24/50\n",
      "3307/3307 [==============================] - 3s 777us/sample - loss: 0.5636 - accuracy: 0.7493 - val_loss: 0.5761 - val_accuracy: 0.7461\n",
      "Epoch 25/50\n",
      "3307/3307 [==============================] - 2s 706us/sample - loss: 0.5547 - accuracy: 0.7539 - val_loss: 0.5955 - val_accuracy: 0.7424\n",
      "Epoch 26/50\n",
      "3307/3307 [==============================] - 3s 1ms/sample - loss: 0.5405 - accuracy: 0.7551 - val_loss: 0.5775 - val_accuracy: 0.7509\n",
      "Epoch 27/50\n",
      "3307/3307 [==============================] - 3s 855us/sample - loss: 0.5305 - accuracy: 0.7572 - val_loss: 0.5531 - val_accuracy: 0.7557\n",
      "Epoch 28/50\n",
      "3307/3307 [==============================] - 2s 711us/sample - loss: 0.5166 - accuracy: 0.7614 - val_loss: 0.5546 - val_accuracy: 0.7557\n",
      "Epoch 29/50\n",
      "3307/3307 [==============================] - 2s 749us/sample - loss: 0.5075 - accuracy: 0.7632 - val_loss: 0.5557 - val_accuracy: 0.7557\n",
      "Epoch 30/50\n",
      "3307/3307 [==============================] - 2s 704us/sample - loss: 0.5013 - accuracy: 0.7641 - val_loss: 0.5423 - val_accuracy: 0.7606\n",
      "Epoch 31/50\n",
      "3307/3307 [==============================] - 2s 701us/sample - loss: 0.4928 - accuracy: 0.7653 - val_loss: 0.5083 - val_accuracy: 0.7666\n",
      "Epoch 32/50\n",
      "3307/3307 [==============================] - 3s 770us/sample - loss: 0.4956 - accuracy: 0.7626 - val_loss: 0.4873 - val_accuracy: 0.7703\n",
      "Epoch 33/50\n",
      "3307/3307 [==============================] - 2s 698us/sample - loss: 0.4852 - accuracy: 0.7663 - val_loss: 0.4992 - val_accuracy: 0.7678\n",
      "Epoch 34/50\n",
      "3307/3307 [==============================] - 2s 701us/sample - loss: 0.4843 - accuracy: 0.7641 - val_loss: 0.5006 - val_accuracy: 0.7666\n",
      "Epoch 35/50\n",
      "3307/3307 [==============================] - 3s 898us/sample - loss: 0.4798 - accuracy: 0.7653 - val_loss: 0.4859 - val_accuracy: 0.7715\n",
      "Epoch 36/50\n",
      "3307/3307 [==============================] - 3s 866us/sample - loss: 0.4699 - accuracy: 0.7660 - val_loss: 0.4828 - val_accuracy: 0.7690\n",
      "Epoch 37/50\n",
      "3307/3307 [==============================] - 3s 816us/sample - loss: 0.4600 - accuracy: 0.7666 - val_loss: 0.4799 - val_accuracy: 0.7666\n",
      "Epoch 38/50\n",
      "3307/3307 [==============================] - 3s 831us/sample - loss: 0.4506 - accuracy: 0.7669 - val_loss: 0.4571 - val_accuracy: 0.7703\n",
      "Epoch 39/50\n",
      "3307/3307 [==============================] - 3s 789us/sample - loss: 0.4503 - accuracy: 0.7638 - val_loss: 0.4944 - val_accuracy: 0.7606\n",
      "Epoch 40/50\n",
      "3307/3307 [==============================] - 2s 733us/sample - loss: 0.4416 - accuracy: 0.7638 - val_loss: 0.4887 - val_accuracy: 0.7630\n",
      "Epoch 41/50\n",
      "3307/3307 [==============================] - 2s 742us/sample - loss: 0.4349 - accuracy: 0.7656 - val_loss: 0.4576 - val_accuracy: 0.7618\n",
      "Epoch 42/50\n",
      "3307/3307 [==============================] - 3s 776us/sample - loss: 0.4316 - accuracy: 0.7644 - val_loss: 0.4362 - val_accuracy: 0.7715\n",
      "Epoch 43/50\n",
      "3307/3307 [==============================] - 2s 755us/sample - loss: 0.4259 - accuracy: 0.7635 - val_loss: 0.4322 - val_accuracy: 0.7666\n",
      "Epoch 44/50\n",
      "3307/3307 [==============================] - 2s 717us/sample - loss: 0.4124 - accuracy: 0.7663 - val_loss: 0.4390 - val_accuracy: 0.7690\n",
      "Epoch 45/50\n",
      "3307/3307 [==============================] - 2s 737us/sample - loss: 0.4032 - accuracy: 0.7650 - val_loss: 0.4225 - val_accuracy: 0.7715\n",
      "Epoch 46/50\n",
      "3307/3307 [==============================] - 2s 720us/sample - loss: 0.4055 - accuracy: 0.7647 - val_loss: 0.4174 - val_accuracy: 0.7666\n",
      "Epoch 47/50\n",
      "3307/3307 [==============================] - 2s 728us/sample - loss: 0.3921 - accuracy: 0.7653 - val_loss: 0.4475 - val_accuracy: 0.7582\n",
      "Epoch 48/50\n",
      "3307/3307 [==============================] - 3s 806us/sample - loss: 0.3812 - accuracy: 0.7641 - val_loss: 0.4229 - val_accuracy: 0.7642\n",
      "Epoch 49/50\n",
      "3307/3307 [==============================] - 2s 754us/sample - loss: 0.3784 - accuracy: 0.7635 - val_loss: 0.4446 - val_accuracy: 0.7570\n",
      "Epoch 50/50\n",
      "3307/3307 [==============================] - 2s 725us/sample - loss: 0.3695 - accuracy: 0.7638 - val_loss: 0.3793 - val_accuracy: 0.7739\n"
     ]
    }
   ],
   "source": [
    "history_deep = model_deep.fit(knot_tying_train_data, knot_tying_train_labels,\n",
    "                    epochs=50,\n",
    "                    batch_size=32,\n",
    "                    validation_data=(knot_tying_test_data, knot_tying_test_labels)\n",
    "                   )"
   ]
  },
  {
   "cell_type": "code",
   "execution_count": 28,
   "metadata": {},
   "outputs": [
    {
     "data": {
      "text/plain": [
       "<Figure size 432x288 with 0 Axes>"
      ]
     },
     "execution_count": 28,
     "metadata": {},
     "output_type": "execute_result"
    },
    {
     "data": {
      "image/png": "[encoded data removed]",
      "text/plain": [
       "<Figure size 432x288 with 1 Axes>"
      ]
     },
     "metadata": {
      "needs_background": "light"
     },
     "output_type": "display_data"
    },
    {
     "data": {
      "image/png": "[encoded data removed]",
      "text/plain": [
       "<Figure size 432x288 with 1 Axes>"
      ]
     },
     "metadata": {
      "needs_background": "light"
     },
     "output_type": "display_data"
    },
    {
     "data": {
      "text/plain": [
       "<Figure size 432x288 with 0 Axes>"
      ]
     },
     "metadata": {},
     "output_type": "display_data"
    }
   ],
   "source": [
    "# Accuracy and loss\n",
    "acc_deep = history_deep.history['accuracy']\n",
    "val_acc_deep = history_deep.history['val_accuracy']\n",
    "loss_deep = history_deep.history['loss']\n",
    "val_loss_deep = history_deep.history['val_loss']\n",
    "\n",
    "epochs_deep = range(1, len(acc_deep) + 1)\n",
    "\n",
    "# Plot Loss\n",
    "plt.plot(epochs_deep, loss_deep, 'bo', label='Training loss')\n",
    "plt.plot(epochs_deep, val_loss_deep, 'orange', label = 'Validation loss')\n",
    "plt.title('Training and Validation Loss')\n",
    "plt.legend()\n",
    "\n",
    "plt.figure()\n",
    "\n",
    "# Plot Accuracy\n",
    "plt.plot(epochs_deep, acc_deep, 'bo', label='Training accuracy')\n",
    "plt.plot(epochs_deep, val_acc_deep, 'orange', label = 'Validation accuracy')\n",
    "plt.title('Training and Validation Accuracy')\n",
    "plt.legend()\n",
    "plt.figure()"
   ]
  },
  {
   "cell_type": "markdown",
   "metadata": {},
   "source": [
    "##### Needle_Passing"
   ]
  },
  {
   "cell_type": "code",
   "execution_count": 29,
   "metadata": {},
   "outputs": [],
   "source": [
    "model_deep2 = models.Sequential()\n",
    "model_deep2.add(layers.SimpleRNN(units = 8, # dimension of output space\n",
    "                           input_shape=(needle_passing_train_data.shape[1], needle_passing_train_data.shape[2]),\n",
    "                               return_sequences=True))\n",
    "model_deep2.add(layers.SimpleRNN(units = 8))\n",
    "model_deep2.add(layers.Dense(3, activation='sigmoid'))"
   ]
  },
  {
   "cell_type": "code",
   "execution_count": 30,
   "metadata": {},
   "outputs": [
    {
     "name": "stdout",
     "output_type": "stream",
     "text": [
      "Model: \"sequential_4\"\n",
      "_________________________________________________________________\n",
      "Layer (type)                 Output Shape              Param #   \n",
      "=================================================================\n",
      "simple_rnn_5 (SimpleRNN)     (None, 59, 8)             376       \n",
      "_________________________________________________________________\n",
      "simple_rnn_6 (SimpleRNN)     (None, 8)                 136       \n",
      "_________________________________________________________________\n",
      "dense_4 (Dense)              (None, 3)                 27        \n",
      "=================================================================\n",
      "Total params: 539\n",
      "Trainable params: 539\n",
      "Non-trainable params: 0\n",
      "_________________________________________________________________\n"
     ]
    }
   ],
   "source": [
    "model_deep2.summary()"
   ]
  },
  {
   "cell_type": "code",
   "execution_count": 31,
   "metadata": {},
   "outputs": [],
   "source": [
    "model_deep2.compile(optimizer='rmsprop', loss='categorical_crossentropy', metrics=['accuracy'])"
   ]
  },
  {
   "cell_type": "code",
   "execution_count": 32,
   "metadata": {},
   "outputs": [
    {
     "name": "stdout",
     "output_type": "stream",
     "text": [
      "Train on 4841 samples, validate on 1211 samples\n",
      "Epoch 1/50\n",
      "4841/4841 [==============================] - 6s 1ms/sample - loss: 1.0996 - accuracy: 0.3927 - val_loss: 1.0845 - val_accuracy: 0.4055\n",
      "Epoch 2/50\n",
      "4841/4841 [==============================] - 4s 753us/sample - loss: 1.0624 - accuracy: 0.4416 - val_loss: 1.0552 - val_accuracy: 0.4500\n",
      "Epoch 3/50\n",
      "4841/4841 [==============================] - 4s 731us/sample - loss: 1.0291 - accuracy: 0.4904 - val_loss: 1.0167 - val_accuracy: 0.4847\n",
      "Epoch 4/50\n",
      "4841/4841 [==============================] - 3s 710us/sample - loss: 0.9685 - accuracy: 0.5319 - val_loss: 0.9484 - val_accuracy: 0.5376\n",
      "Epoch 5/50\n",
      "4841/4841 [==============================] - 4s 731us/sample - loss: 0.9001 - accuracy: 0.5677 - val_loss: 0.8924 - val_accuracy: 0.5747\n",
      "Epoch 6/50\n",
      "4841/4841 [==============================] - 4s 726us/sample - loss: 0.8526 - accuracy: 0.5986 - val_loss: 0.8446 - val_accuracy: 0.6061\n",
      "Epoch 7/50\n",
      "4841/4841 [==============================] - 4s 758us/sample - loss: 0.8139 - accuracy: 0.6178 - val_loss: 0.8339 - val_accuracy: 0.6218\n",
      "Epoch 8/50\n",
      "4841/4841 [==============================] - 4s 731us/sample - loss: 0.7901 - accuracy: 0.6362 - val_loss: 0.7688 - val_accuracy: 0.6581\n",
      "Epoch 9/50\n",
      "4841/4841 [==============================] - 3s 714us/sample - loss: 0.7283 - accuracy: 0.6556 - val_loss: 0.7344 - val_accuracy: 0.6623\n",
      "Epoch 10/50\n",
      "4841/4841 [==============================] - 3s 713us/sample - loss: 0.6878 - accuracy: 0.6680 - val_loss: 0.7075 - val_accuracy: 0.6697\n",
      "Epoch 11/50\n",
      "4841/4841 [==============================] - 4s 735us/sample - loss: 0.6642 - accuracy: 0.6811 - val_loss: 0.6773 - val_accuracy: 0.6821\n",
      "Epoch 12/50\n",
      "4841/4841 [==============================] - 4s 761us/sample - loss: 0.6339 - accuracy: 0.6883 - val_loss: 0.6406 - val_accuracy: 0.6912\n",
      "Epoch 13/50\n",
      "4841/4841 [==============================] - 3s 717us/sample - loss: 0.6123 - accuracy: 0.6968 - val_loss: 0.6245 - val_accuracy: 0.6978\n",
      "Epoch 14/50\n",
      "4841/4841 [==============================] - 3s 715us/sample - loss: 0.5927 - accuracy: 0.7073 - val_loss: 0.5829 - val_accuracy: 0.7135\n",
      "Epoch 15/50\n",
      "4841/4841 [==============================] - 3s 717us/sample - loss: 0.5590 - accuracy: 0.7174 - val_loss: 0.5842 - val_accuracy: 0.7217\n",
      "Epoch 16/50\n",
      "4841/4841 [==============================] - 4s 759us/sample - loss: 0.5436 - accuracy: 0.7232 - val_loss: 0.5432 - val_accuracy: 0.7250\n",
      "Epoch 17/50\n",
      "4841/4841 [==============================] - 4s 729us/sample - loss: 0.5359 - accuracy: 0.7228 - val_loss: 0.5300 - val_accuracy: 0.7308\n",
      "Epoch 18/50\n",
      "4841/4841 [==============================] - 4s 732us/sample - loss: 0.5298 - accuracy: 0.7249 - val_loss: 0.5197 - val_accuracy: 0.7358\n",
      "Epoch 19/50\n",
      "4841/4841 [==============================] - 3s 712us/sample - loss: 0.5120 - accuracy: 0.7288 - val_loss: 0.5145 - val_accuracy: 0.7325\n",
      "Epoch 20/50\n",
      "4841/4841 [==============================] - 3s 715us/sample - loss: 0.5210 - accuracy: 0.7269 - val_loss: 0.5068 - val_accuracy: 0.7358\n",
      "Epoch 21/50\n",
      "4841/4841 [==============================] - 4s 790us/sample - loss: 0.4904 - accuracy: 0.7335 - val_loss: 0.5125 - val_accuracy: 0.7415\n",
      "Epoch 22/50\n",
      "4841/4841 [==============================] - 3s 717us/sample - loss: 0.4999 - accuracy: 0.7331 - val_loss: 0.5337 - val_accuracy: 0.7159\n",
      "Epoch 23/50\n",
      "4841/4841 [==============================] - 3s 717us/sample - loss: 0.4834 - accuracy: 0.7379 - val_loss: 0.4937 - val_accuracy: 0.7391\n",
      "Epoch 24/50\n",
      "4841/4841 [==============================] - 3s 718us/sample - loss: 0.4696 - accuracy: 0.7414 - val_loss: 0.4658 - val_accuracy: 0.7432\n",
      "Epoch 25/50\n",
      "4841/4841 [==============================] - 4s 766us/sample - loss: 0.4593 - accuracy: 0.7412 - val_loss: 0.4575 - val_accuracy: 0.7415\n",
      "Epoch 26/50\n",
      "4841/4841 [==============================] - 4s 754us/sample - loss: 0.4582 - accuracy: 0.7420 - val_loss: 0.4652 - val_accuracy: 0.7440\n",
      "Epoch 27/50\n",
      "4841/4841 [==============================] - 3s 717us/sample - loss: 0.4489 - accuracy: 0.7410 - val_loss: 0.4658 - val_accuracy: 0.7432\n",
      "Epoch 28/50\n",
      "4841/4841 [==============================] - 3s 716us/sample - loss: 0.4359 - accuracy: 0.7441 - val_loss: 0.4557 - val_accuracy: 0.7448\n",
      "Epoch 29/50\n",
      "4841/4841 [==============================] - 4s 741us/sample - loss: 0.4407 - accuracy: 0.7443 - val_loss: 0.4556 - val_accuracy: 0.7498\n",
      "Epoch 30/50\n",
      "4841/4841 [==============================] - 4s 751us/sample - loss: 0.4341 - accuracy: 0.7451 - val_loss: 0.4517 - val_accuracy: 0.7481\n",
      "Epoch 31/50\n",
      "4841/4841 [==============================] - 4s 738us/sample - loss: 0.4282 - accuracy: 0.7463 - val_loss: 0.4790 - val_accuracy: 0.7415\n",
      "Epoch 32/50\n",
      "4841/4841 [==============================] - 4s 725us/sample - loss: 0.4335 - accuracy: 0.7434 - val_loss: 0.4708 - val_accuracy: 0.7457\n",
      "Epoch 33/50\n",
      "4841/4841 [==============================] - 3s 710us/sample - loss: 0.4236 - accuracy: 0.7463 - val_loss: 0.4537 - val_accuracy: 0.7490\n",
      "Epoch 34/50\n",
      "4841/4841 [==============================] - 4s 741us/sample - loss: 0.4299 - accuracy: 0.7467 - val_loss: 0.4656 - val_accuracy: 0.7432\n",
      "Epoch 35/50\n",
      "4841/4841 [==============================] - 4s 776us/sample - loss: 0.4222 - accuracy: 0.7484 - val_loss: 0.4543 - val_accuracy: 0.7490\n",
      "Epoch 36/50\n",
      "4841/4841 [==============================] - 4s 771us/sample - loss: 0.4163 - accuracy: 0.7474 - val_loss: 0.4685 - val_accuracy: 0.7424\n",
      "Epoch 37/50\n",
      "4841/4841 [==============================] - 4s 766us/sample - loss: 0.4079 - accuracy: 0.7496 - val_loss: 0.4467 - val_accuracy: 0.7490\n",
      "Epoch 38/50\n",
      "4841/4841 [==============================] - 4s 748us/sample - loss: 0.4164 - accuracy: 0.7461 - val_loss: 0.4646 - val_accuracy: 0.7391\n",
      "Epoch 39/50\n",
      "4841/4841 [==============================] - 4s 736us/sample - loss: 0.4247 - accuracy: 0.7463 - val_loss: 0.4526 - val_accuracy: 0.7432\n",
      "Epoch 40/50\n",
      "4841/4841 [==============================] - 3s 707us/sample - loss: 0.4116 - accuracy: 0.7478 - val_loss: 0.4556 - val_accuracy: 0.7457\n",
      "Epoch 41/50\n",
      "4841/4841 [==============================] - 3s 716us/sample - loss: 0.4208 - accuracy: 0.7465 - val_loss: 0.4549 - val_accuracy: 0.7481\n",
      "Epoch 42/50\n",
      "4841/4841 [==============================] - 3s 714us/sample - loss: 0.4153 - accuracy: 0.7472 - val_loss: 0.4505 - val_accuracy: 0.7457\n",
      "Epoch 43/50\n",
      "4841/4841 [==============================] - 4s 749us/sample - loss: 0.4153 - accuracy: 0.7467 - val_loss: 0.4290 - val_accuracy: 0.7514\n",
      "Epoch 44/50\n",
      "4841/4841 [==============================] - 4s 724us/sample - loss: 0.4082 - accuracy: 0.7467 - val_loss: 0.4319 - val_accuracy: 0.7498\n",
      "Epoch 45/50\n",
      "4841/4841 [==============================] - 3s 709us/sample - loss: 0.4138 - accuracy: 0.7447 - val_loss: 0.5098 - val_accuracy: 0.7382\n",
      "Epoch 46/50\n",
      "4841/4841 [==============================] - 4s 731us/sample - loss: 0.4030 - accuracy: 0.7470 - val_loss: 0.4298 - val_accuracy: 0.7481\n",
      "Epoch 47/50\n",
      "4841/4841 [==============================] - 3s 722us/sample - loss: 0.4016 - accuracy: 0.7449 - val_loss: 0.4408 - val_accuracy: 0.7407\n",
      "Epoch 48/50\n",
      "4841/4841 [==============================] - 4s 747us/sample - loss: 0.3968 - accuracy: 0.7461 - val_loss: 0.4520 - val_accuracy: 0.7424\n",
      "Epoch 49/50\n",
      "4841/4841 [==============================] - 3s 717us/sample - loss: 0.3920 - accuracy: 0.7461 - val_loss: 0.4156 - val_accuracy: 0.7506\n",
      "Epoch 50/50\n",
      "4841/4841 [==============================] - 3s 714us/sample - loss: 0.4005 - accuracy: 0.7447 - val_loss: 0.4208 - val_accuracy: 0.7424\n"
     ]
    }
   ],
   "source": [
    "history_deep2 = model_deep2.fit(needle_passing_train_data, needle_passing_train_labels,\n",
    "                    epochs=50,\n",
    "                    batch_size=32, # comparable with 16\n",
    "                    validation_data=(needle_passing_test_data, needle_passing_test_labels)\n",
    "                   )"
   ]
  },
  {
   "cell_type": "code",
   "execution_count": 34,
   "metadata": {},
   "outputs": [
    {
     "data": {
      "text/plain": [
       "<Figure size 432x288 with 0 Axes>"
      ]
     },
     "execution_count": 34,
     "metadata": {},
     "output_type": "execute_result"
    },
    {
     "data": {
      "image/png": "[encoded data removed]",
      "text/plain": [
       "<Figure size 432x288 with 1 Axes>"
      ]
     },
     "metadata": {
      "needs_background": "light"
     },
     "output_type": "display_data"
    },
    {
     "data": {
      "image/png": "[encoded data removed]",
      "text/plain": [
       "<Figure size 432x288 with 1 Axes>"
      ]
     },
     "metadata": {
      "needs_background": "light"
     },
     "output_type": "display_data"
    },
    {
     "data": {
      "text/plain": [
       "<Figure size 432x288 with 0 Axes>"
      ]
     },
     "metadata": {},
     "output_type": "display_data"
    }
   ],
   "source": [
    "# Accuracy and loss\n",
    "acc_deep2 = history_deep2.history['accuracy']\n",
    "val_acc_deep_2 = history_deep2.history['val_accuracy']\n",
    "loss_deep2 = history_deep2.history['loss']\n",
    "val_loss_deep2 = history_deep2.history['val_loss']\n",
    "\n",
    "epochs_deep2 = range(1, len(acc_deep2) + 1)\n",
    "\n",
    "# Plot Loss\n",
    "plt.plot(epochs_deep2, loss_deep2, 'bo', label='Training loss')\n",
    "plt.plot(epochs_deep2, val_loss_deep2, 'orange', label = 'Validation loss')\n",
    "plt.title('Training and Validation Loss')\n",
    "plt.legend()\n",
    "\n",
    "plt.figure()\n",
    "\n",
    "# Plot Accuracy\n",
    "plt.plot(epochs_deep2, acc_deep2, 'bo', label='Training accuracy')\n",
    "plt.plot(epochs_deep2, val_acc_deep_2, 'orange', label = 'Validation accuracy')\n",
    "plt.title('Training and Validation Accuracy')\n",
    "plt.legend()\n",
    "\n",
    "plt.figure()"
   ]
  },
  {
   "cell_type": "markdown",
   "metadata": {},
   "source": [
    "##### Suturing"
   ]
  },
  {
   "cell_type": "code",
   "execution_count": 35,
   "metadata": {},
   "outputs": [],
   "source": [
    "model_deep3 = models.Sequential()\n",
    "model_deep3.add(layers.SimpleRNN(units = 8, # dimension of output space\n",
    "                           input_shape=(suturing_train_data.shape[1], suturing_train_data.shape[2]),\n",
    "                                return_sequences=True))\n",
    "model_deep3.add(layers.SimpleRNN(units = 8))\n",
    "model_deep3.add(layers.Dense(3, activation='sigmoid'))"
   ]
  },
  {
   "cell_type": "code",
   "execution_count": 36,
   "metadata": {},
   "outputs": [
    {
     "name": "stdout",
     "output_type": "stream",
     "text": [
      "Model: \"sequential_5\"\n",
      "_________________________________________________________________\n",
      "Layer (type)                 Output Shape              Param #   \n",
      "=================================================================\n",
      "simple_rnn_7 (SimpleRNN)     (None, 59, 8)             376       \n",
      "_________________________________________________________________\n",
      "simple_rnn_8 (SimpleRNN)     (None, 8)                 136       \n",
      "_________________________________________________________________\n",
      "dense_5 (Dense)              (None, 3)                 27        \n",
      "=================================================================\n",
      "Total params: 539\n",
      "Trainable params: 539\n",
      "Non-trainable params: 0\n",
      "_________________________________________________________________\n"
     ]
    }
   ],
   "source": [
    "model_deep3.summary()"
   ]
  },
  {
   "cell_type": "code",
   "execution_count": 37,
   "metadata": {},
   "outputs": [],
   "source": [
    "model_deep3.compile(optimizer='rmsprop', loss='categorical_crossentropy', metrics=['accuracy'])"
   ]
  },
  {
   "cell_type": "code",
   "execution_count": 38,
   "metadata": {},
   "outputs": [
    {
     "name": "stdout",
     "output_type": "stream",
     "text": [
      "Train on 7003 samples, validate on 1751 samples\n",
      "Epoch 1/50\n",
      "7003/7003 [==============================] - 8s 1ms/sample - loss: 1.0401 - accuracy: 0.4874 - val_loss: 0.9507 - val_accuracy: 0.5894\n",
      "Epoch 2/50\n",
      "7003/7003 [==============================] - 6s 801us/sample - loss: 0.9116 - accuracy: 0.5975 - val_loss: 0.8508 - val_accuracy: 0.6156\n",
      "Epoch 3/50\n",
      "7003/7003 [==============================] - 5s 783us/sample - loss: 0.8053 - accuracy: 0.6410 - val_loss: 0.7513 - val_accuracy: 0.6688\n",
      "Epoch 4/50\n",
      "7003/7003 [==============================] - 5s 754us/sample - loss: 0.7388 - accuracy: 0.6734 - val_loss: 0.6834 - val_accuracy: 0.7122\n",
      "Epoch 5/50\n",
      "7003/7003 [==============================] - 5s 756us/sample - loss: 0.6737 - accuracy: 0.7001 - val_loss: 0.6532 - val_accuracy: 0.7144\n",
      "Epoch 6/50\n",
      "7003/7003 [==============================] - 5s 757us/sample - loss: 0.6265 - accuracy: 0.7193 - val_loss: 0.5973 - val_accuracy: 0.7339\n",
      "Epoch 7/50\n",
      "7003/7003 [==============================] - 5s 723us/sample - loss: 0.5810 - accuracy: 0.7323 - val_loss: 0.5639 - val_accuracy: 0.7516\n",
      "Epoch 8/50\n",
      "7003/7003 [==============================] - 5s 744us/sample - loss: 0.5544 - accuracy: 0.7403 - val_loss: 0.5497 - val_accuracy: 0.7459\n",
      "Epoch 9/50\n",
      "7003/7003 [==============================] - 5s 737us/sample - loss: 0.5307 - accuracy: 0.7510 - val_loss: 0.5315 - val_accuracy: 0.7619\n",
      "Epoch 10/50\n",
      "7003/7003 [==============================] - 5s 705us/sample - loss: 0.5075 - accuracy: 0.7631 - val_loss: 0.4933 - val_accuracy: 0.7841\n",
      "Epoch 11/50\n",
      "7003/7003 [==============================] - 5s 703us/sample - loss: 0.4928 - accuracy: 0.7622 - val_loss: 0.4592 - val_accuracy: 0.7784\n",
      "Epoch 12/50\n",
      "7003/7003 [==============================] - 5s 731us/sample - loss: 0.4796 - accuracy: 0.7622 - val_loss: 0.4482 - val_accuracy: 0.7801\n",
      "Epoch 13/50\n",
      "7003/7003 [==============================] - 5s 714us/sample - loss: 0.4578 - accuracy: 0.7661 - val_loss: 0.4598 - val_accuracy: 0.7830\n",
      "Epoch 14/50\n",
      "7003/7003 [==============================] - 5s 704us/sample - loss: 0.4357 - accuracy: 0.7742 - val_loss: 0.4413 - val_accuracy: 0.7784\n",
      "Epoch 15/50\n",
      "7003/7003 [==============================] - 5s 728us/sample - loss: 0.4172 - accuracy: 0.7778 - val_loss: 0.4128 - val_accuracy: 0.7801\n",
      "Epoch 16/50\n",
      "7003/7003 [==============================] - 5s 717us/sample - loss: 0.4064 - accuracy: 0.7744 - val_loss: 0.4078 - val_accuracy: 0.7796\n",
      "Epoch 17/50\n",
      "7003/7003 [==============================] - 5s 719us/sample - loss: 0.3920 - accuracy: 0.7781 - val_loss: 0.3909 - val_accuracy: 0.7790\n",
      "Epoch 18/50\n",
      "7003/7003 [==============================] - 5s 748us/sample - loss: 0.3854 - accuracy: 0.7707 - val_loss: 0.3684 - val_accuracy: 0.7796\n",
      "Epoch 19/50\n",
      "7003/7003 [==============================] - 5s 716us/sample - loss: 0.3705 - accuracy: 0.7732 - val_loss: 0.3697 - val_accuracy: 0.7813\n",
      "Epoch 20/50\n",
      "7003/7003 [==============================] - 5s 711us/sample - loss: 0.3582 - accuracy: 0.7780 - val_loss: 0.3833 - val_accuracy: 0.7796\n",
      "Epoch 21/50\n",
      "7003/7003 [==============================] - 5s 738us/sample - loss: 0.3551 - accuracy: 0.7820 - val_loss: 0.3538 - val_accuracy: 0.7807\n",
      "Epoch 22/50\n",
      "7003/7003 [==============================] - 5s 723us/sample - loss: 0.3585 - accuracy: 0.7811 - val_loss: 0.3570 - val_accuracy: 0.7784\n",
      "Epoch 23/50\n",
      "7003/7003 [==============================] - 5s 710us/sample - loss: 0.3492 - accuracy: 0.7818 - val_loss: 0.3476 - val_accuracy: 0.7813\n",
      "Epoch 24/50\n",
      "7003/7003 [==============================] - 5s 733us/sample - loss: 0.3410 - accuracy: 0.7847 - val_loss: 0.3416 - val_accuracy: 0.7824\n",
      "Epoch 25/50\n",
      "7003/7003 [==============================] - 5s 721us/sample - loss: 0.3335 - accuracy: 0.7867 - val_loss: 0.3388 - val_accuracy: 0.7870\n",
      "Epoch 26/50\n",
      "7003/7003 [==============================] - 5s 715us/sample - loss: 0.3275 - accuracy: 0.7884 - val_loss: 0.3559 - val_accuracy: 0.7813\n",
      "Epoch 27/50\n",
      "7003/7003 [==============================] - 5s 750us/sample - loss: 0.3280 - accuracy: 0.7871 - val_loss: 0.3252 - val_accuracy: 0.7853\n",
      "Epoch 28/50\n",
      "7003/7003 [==============================] - 6s 840us/sample - loss: 0.3295 - accuracy: 0.7865 - val_loss: 0.3174 - val_accuracy: 0.7910\n",
      "Epoch 29/50\n",
      "7003/7003 [==============================] - 5s 740us/sample - loss: 0.3195 - accuracy: 0.7898 - val_loss: 0.3251 - val_accuracy: 0.7893\n",
      "Epoch 30/50\n",
      "7003/7003 [==============================] - 5s 740us/sample - loss: 0.3242 - accuracy: 0.7889 - val_loss: 0.3207 - val_accuracy: 0.7887\n",
      "Epoch 31/50\n",
      "7003/7003 [==============================] - 5s 734us/sample - loss: 0.3142 - accuracy: 0.7912 - val_loss: 0.3268 - val_accuracy: 0.7881\n",
      "Epoch 32/50\n",
      "7003/7003 [==============================] - 5s 728us/sample - loss: 0.3102 - accuracy: 0.7902 - val_loss: 0.2963 - val_accuracy: 0.7944\n",
      "Epoch 33/50\n",
      "7003/7003 [==============================] - 5s 750us/sample - loss: 0.3073 - accuracy: 0.7898 - val_loss: 0.2936 - val_accuracy: 0.7950\n",
      "Epoch 34/50\n",
      "7003/7003 [==============================] - 6s 786us/sample - loss: 0.3029 - accuracy: 0.7917 - val_loss: 0.2981 - val_accuracy: 0.7955\n",
      "Epoch 35/50\n",
      "7003/7003 [==============================] - 5s 748us/sample - loss: 0.2916 - accuracy: 0.7942 - val_loss: 0.2886 - val_accuracy: 0.7978\n",
      "Epoch 36/50\n",
      "7003/7003 [==============================] - 5s 744us/sample - loss: 0.2889 - accuracy: 0.7952 - val_loss: 0.3025 - val_accuracy: 0.7915\n",
      "Epoch 37/50\n",
      "7003/7003 [==============================] - 5s 756us/sample - loss: 0.2909 - accuracy: 0.7945 - val_loss: 0.2826 - val_accuracy: 0.7978\n",
      "Epoch 38/50\n",
      "7003/7003 [==============================] - 5s 712us/sample - loss: 0.2889 - accuracy: 0.7938 - val_loss: 0.2904 - val_accuracy: 0.7938\n",
      "Epoch 39/50\n",
      "7003/7003 [==============================] - 5s 754us/sample - loss: 0.2821 - accuracy: 0.7952 - val_loss: 0.2843 - val_accuracy: 0.7967\n",
      "Epoch 40/50\n",
      "7003/7003 [==============================] - 5s 784us/sample - loss: 0.2881 - accuracy: 0.7938 - val_loss: 0.2857 - val_accuracy: 0.7944\n",
      "Epoch 41/50\n",
      "7003/7003 [==============================] - 5s 719us/sample - loss: 0.2833 - accuracy: 0.7942 - val_loss: 0.2931 - val_accuracy: 0.7927\n",
      "Epoch 42/50\n",
      "7003/7003 [==============================] - 5s 741us/sample - loss: 0.2840 - accuracy: 0.7937 - val_loss: 0.2849 - val_accuracy: 0.7944\n",
      "Epoch 43/50\n",
      "7003/7003 [==============================] - 6s 863us/sample - loss: 0.2847 - accuracy: 0.7934 - val_loss: 0.2987 - val_accuracy: 0.7893\n",
      "Epoch 44/50\n",
      "7003/7003 [==============================] - 6s 789us/sample - loss: 0.2781 - accuracy: 0.7945 - val_loss: 0.2928 - val_accuracy: 0.7893\n",
      "Epoch 45/50\n",
      "7003/7003 [==============================] - 7s 1ms/sample - loss: 0.2824 - accuracy: 0.7932 - val_loss: 0.3478 - val_accuracy: 0.7756\n",
      "Epoch 46/50\n",
      "7003/7003 [==============================] - 5s 718us/sample - loss: 0.2848 - accuracy: 0.7929 - val_loss: 0.2805 - val_accuracy: 0.7938\n",
      "Epoch 47/50\n",
      "7003/7003 [==============================] - 5s 710us/sample - loss: 0.2779 - accuracy: 0.7935 - val_loss: 0.2840 - val_accuracy: 0.7910\n",
      "Epoch 48/50\n",
      "7003/7003 [==============================] - 5s 738us/sample - loss: 0.2790 - accuracy: 0.7922 - val_loss: 0.2778 - val_accuracy: 0.7910\n",
      "Epoch 49/50\n",
      "7003/7003 [==============================] - 5s 718us/sample - loss: 0.2706 - accuracy: 0.7934 - val_loss: 0.2860 - val_accuracy: 0.7887\n",
      "Epoch 50/50\n",
      "7003/7003 [==============================] - 5s 712us/sample - loss: 0.2728 - accuracy: 0.7941 - val_loss: 0.2719 - val_accuracy: 0.7927\n"
     ]
    }
   ],
   "source": [
    "history_deep3 = model_deep3.fit(suturing_train_data, suturing_train_labels,\n",
    "                    epochs=50,\n",
    "                    batch_size=32,\n",
    "                    validation_data=(suturing_test_data, suturing_test_labels)\n",
    "                   )"
   ]
  },
  {
   "cell_type": "code",
   "execution_count": 39,
   "metadata": {
    "scrolled": true
   },
   "outputs": [
    {
     "data": {
      "text/plain": [
       "<Figure size 432x288 with 0 Axes>"
      ]
     },
     "execution_count": 39,
     "metadata": {},
     "output_type": "execute_result"
    },
    {
     "data": {
      "image/png": "[encoded data removed]",
      "text/plain": [
       "<Figure size 432x288 with 1 Axes>"
      ]
     },
     "metadata": {
      "needs_background": "light"
     },
     "output_type": "display_data"
    },
    {
     "data": {
      "image/png": "[encoded data removed]",
      "text/plain": [
       "<Figure size 432x288 with 1 Axes>"
      ]
     },
     "metadata": {
      "needs_background": "light"
     },
     "output_type": "display_data"
    },
    {
     "data": {
      "text/plain": [
       "<Figure size 432x288 with 0 Axes>"
      ]
     },
     "metadata": {},
     "output_type": "display_data"
    }
   ],
   "source": [
    "# Accuracy and loss\n",
    "acc_deep3 = history_deep3.history['accuracy']\n",
    "val_acc_deep3 = history_deep3.history['val_accuracy']\n",
    "loss_deep3 = history_deep3.history['loss']\n",
    "val_loss_deep3 = history_deep3.history['val_loss']\n",
    "\n",
    "epochs_deep3 = range(1, len(acc_deep3) + 1)\n",
    "\n",
    "# Plot Loss\n",
    "plt.plot(epochs_deep3, loss_deep3, 'bo', label='Training loss')\n",
    "plt.plot(epochs_deep3, val_loss_deep3, 'orange', label = 'Validation loss')\n",
    "plt.title('Training and Validation Loss')\n",
    "plt.legend()\n",
    "\n",
    "plt.figure()\n",
    "\n",
    "# Plot Accuracy\n",
    "plt.plot(epochs_deep3, acc_deep3, 'bo', label='Training accuracy')\n",
    "plt.plot(epochs_deep3, val_acc_deep3, 'orange', label = 'Validation accuracy')\n",
    "plt.title('Training and Validation Accuracy')\n",
    "plt.legend()\n",
    "\n",
    "plt.figure()"
   ]
  },
  {
   "cell_type": "markdown",
   "metadata": {},
   "source": [
    "### LSTM"
   ]
  },
  {
   "cell_type": "markdown",
   "metadata": {},
   "source": [
    "##### Knot_Tying"
   ]
  },
  {
   "cell_type": "code",
   "execution_count": 40,
   "metadata": {},
   "outputs": [],
   "source": [
    "model_lstm = models.Sequential()\n",
    "model_lstm.add(layers.LSTM(8,\n",
    "                          input_shape=(knot_tying_train_data.shape[1], knot_tying_train_data.shape[2]),))\n",
    "model_lstm.add(layers.Dense(3, activation='sigmoid'))"
   ]
  },
  {
   "cell_type": "code",
   "execution_count": 41,
   "metadata": {},
   "outputs": [
    {
     "name": "stdout",
     "output_type": "stream",
     "text": [
      "Model: \"sequential_6\"\n",
      "_________________________________________________________________\n",
      "Layer (type)                 Output Shape              Param #   \n",
      "=================================================================\n",
      "lstm (LSTM)                  (None, 8)                 1504      \n",
      "_________________________________________________________________\n",
      "dense_6 (Dense)              (None, 3)                 27        \n",
      "=================================================================\n",
      "Total params: 1,531\n",
      "Trainable params: 1,531\n",
      "Non-trainable params: 0\n",
      "_________________________________________________________________\n"
     ]
    }
   ],
   "source": [
    "model_lstm.summary()"
   ]
  },
  {
   "cell_type": "code",
   "execution_count": 42,
   "metadata": {},
   "outputs": [],
   "source": [
    "model_lstm.compile(optimizer='rmsprop', loss='categorical_crossentropy', metrics=['accuracy'])"
   ]
  },
  {
   "cell_type": "code",
   "execution_count": 43,
   "metadata": {},
   "outputs": [
    {
     "name": "stdout",
     "output_type": "stream",
     "text": [
      "Train on 3307 samples, validate on 827 samples\n",
      "Epoch 1/50\n",
      "3307/3307 [==============================] - 5s 1ms/sample - loss: 1.0705 - accuracy: 0.4206 - val_loss: 1.0334 - val_accuracy: 0.5224\n",
      "Epoch 2/50\n",
      "3307/3307 [==============================] - 2s 550us/sample - loss: 0.9841 - accuracy: 0.5791 - val_loss: 0.9428 - val_accuracy: 0.5925\n",
      "Epoch 3/50\n",
      "3307/3307 [==============================] - 2s 571us/sample - loss: 0.8528 - accuracy: 0.6523 - val_loss: 0.7653 - val_accuracy: 0.6747\n",
      "Epoch 4/50\n",
      "3307/3307 [==============================] - 2s 559us/sample - loss: 0.6819 - accuracy: 0.7418 - val_loss: 0.6277 - val_accuracy: 0.7678\n",
      "Epoch 5/50\n",
      "3307/3307 [==============================] - 2s 553us/sample - loss: 0.5962 - accuracy: 0.7666 - val_loss: 0.5653 - val_accuracy: 0.7727\n",
      "Epoch 6/50\n",
      "3307/3307 [==============================] - 2s 549us/sample - loss: 0.5341 - accuracy: 0.7681 - val_loss: 0.5145 - val_accuracy: 0.7690\n",
      "Epoch 7/50\n",
      "3307/3307 [==============================] - 2s 551us/sample - loss: 0.4788 - accuracy: 0.7663 - val_loss: 0.4427 - val_accuracy: 0.7703\n",
      "Epoch 8/50\n",
      "3307/3307 [==============================] - 2s 594us/sample - loss: 0.4100 - accuracy: 0.7675 - val_loss: 0.3792 - val_accuracy: 0.7727\n",
      "Epoch 9/50\n",
      "3307/3307 [==============================] - 2s 557us/sample - loss: 0.3395 - accuracy: 0.7693 - val_loss: 0.3289 - val_accuracy: 0.7703\n",
      "Epoch 10/50\n",
      "3307/3307 [==============================] - 2s 607us/sample - loss: 0.2947 - accuracy: 0.7693 - val_loss: 0.3068 - val_accuracy: 0.7751\n",
      "Epoch 11/50\n",
      "3307/3307 [==============================] - 2s 554us/sample - loss: 0.2640 - accuracy: 0.7741 - val_loss: 0.2696 - val_accuracy: 0.7884\n",
      "Epoch 12/50\n",
      "3307/3307 [==============================] - 2s 578us/sample - loss: 0.2384 - accuracy: 0.7965 - val_loss: 0.2521 - val_accuracy: 0.8162\n",
      "Epoch 13/50\n",
      "3307/3307 [==============================] - 2s 553us/sample - loss: 0.2215 - accuracy: 0.8530 - val_loss: 0.2345 - val_accuracy: 0.8875\n",
      "Epoch 14/50\n",
      "3307/3307 [==============================] - 2s 550us/sample - loss: 0.1923 - accuracy: 0.9368 - val_loss: 0.2014 - val_accuracy: 0.9468\n",
      "Epoch 15/50\n",
      "3307/3307 [==============================] - 2s 551us/sample - loss: 0.1631 - accuracy: 0.9761 - val_loss: 0.1746 - val_accuracy: 0.9722\n",
      "Epoch 16/50\n",
      "3307/3307 [==============================] - 2s 554us/sample - loss: 0.1314 - accuracy: 0.9897 - val_loss: 0.1508 - val_accuracy: 0.9782\n",
      "Epoch 17/50\n",
      "3307/3307 [==============================] - 2s 549us/sample - loss: 0.1033 - accuracy: 0.9924 - val_loss: 0.1292 - val_accuracy: 0.9831\n",
      "Epoch 18/50\n",
      "3307/3307 [==============================] - 2s 568us/sample - loss: 0.0802 - accuracy: 0.9933 - val_loss: 0.1023 - val_accuracy: 0.9831\n",
      "Epoch 19/50\n",
      "3307/3307 [==============================] - 2s 597us/sample - loss: 0.0638 - accuracy: 0.9946 - val_loss: 0.1152 - val_accuracy: 0.9807\n",
      "Epoch 20/50\n",
      "3307/3307 [==============================] - 2s 558us/sample - loss: 0.0486 - accuracy: 0.9949 - val_loss: 0.1005 - val_accuracy: 0.9807\n",
      "Epoch 21/50\n",
      "3307/3307 [==============================] - 2s 562us/sample - loss: 0.0420 - accuracy: 0.9967 - val_loss: 0.0986 - val_accuracy: 0.9794\n",
      "Epoch 22/50\n",
      "3307/3307 [==============================] - 2s 555us/sample - loss: 0.0323 - accuracy: 0.9967 - val_loss: 0.0752 - val_accuracy: 0.9831\n",
      "Epoch 23/50\n",
      "3307/3307 [==============================] - 2s 559us/sample - loss: 0.0288 - accuracy: 0.9970 - val_loss: 0.0852 - val_accuracy: 0.9819\n",
      "Epoch 24/50\n",
      "3307/3307 [==============================] - 2s 559us/sample - loss: 0.0292 - accuracy: 0.9961 - val_loss: 0.0766 - val_accuracy: 0.9831\n",
      "Epoch 25/50\n",
      "3307/3307 [==============================] - 2s 554us/sample - loss: 0.0180 - accuracy: 0.9982 - val_loss: 0.0698 - val_accuracy: 0.9831\n",
      "Epoch 26/50\n",
      "3307/3307 [==============================] - 2s 605us/sample - loss: 0.0173 - accuracy: 0.9973 - val_loss: 0.0536 - val_accuracy: 0.9879\n",
      "Epoch 27/50\n",
      "3307/3307 [==============================] - 2s 705us/sample - loss: 0.0162 - accuracy: 0.9973 - val_loss: 0.0704 - val_accuracy: 0.9855\n",
      "Epoch 28/50\n",
      "3307/3307 [==============================] - 2s 600us/sample - loss: 0.0150 - accuracy: 0.9973 - val_loss: 0.0450 - val_accuracy: 0.9903\n",
      "Epoch 29/50\n",
      "3307/3307 [==============================] - 2s 618us/sample - loss: 0.0116 - accuracy: 0.9985 - val_loss: 0.0316 - val_accuracy: 0.9927\n",
      "Epoch 30/50\n",
      "3307/3307 [==============================] - 2s 630us/sample - loss: 0.0082 - accuracy: 0.9991 - val_loss: 0.0321 - val_accuracy: 0.9940\n",
      "Epoch 31/50\n",
      "3307/3307 [==============================] - 2s 523us/sample - loss: 0.0052 - accuracy: 0.9994 - val_loss: 0.0571 - val_accuracy: 0.9879\n",
      "Epoch 32/50\n",
      "3307/3307 [==============================] - 2s 536us/sample - loss: 0.0037 - accuracy: 0.9994 - val_loss: 0.0460 - val_accuracy: 0.9915\n",
      "Epoch 33/50\n",
      "3307/3307 [==============================] - 2s 696us/sample - loss: 0.0059 - accuracy: 0.9991 - val_loss: 0.0518 - val_accuracy: 0.9915\n",
      "Epoch 34/50\n",
      "3307/3307 [==============================] - 2s 691us/sample - loss: 0.0070 - accuracy: 0.9988 - val_loss: 0.0429 - val_accuracy: 0.9927\n",
      "Epoch 35/50\n",
      "3307/3307 [==============================] - 2s 753us/sample - loss: 0.0059 - accuracy: 0.9991 - val_loss: 0.0515 - val_accuracy: 0.9915\n",
      "Epoch 36/50\n",
      "3307/3307 [==============================] - 2s 606us/sample - loss: 0.0011 - accuracy: 1.0000 - val_loss: 0.0267 - val_accuracy: 0.9952\n",
      "Epoch 37/50\n",
      "3307/3307 [==============================] - 3s 907us/sample - loss: 0.0039 - accuracy: 0.9991 - val_loss: 0.0273 - val_accuracy: 0.9952\n",
      "Epoch 38/50\n",
      "3307/3307 [==============================] - 3s 910us/sample - loss: 6.3896e-04 - accuracy: 1.0000 - val_loss: 0.0963 - val_accuracy: 0.9843\n",
      "Epoch 39/50\n",
      "3307/3307 [==============================] - 3s 806us/sample - loss: 0.0036 - accuracy: 0.9994 - val_loss: 0.0496 - val_accuracy: 0.9915\n",
      "Epoch 40/50\n",
      "3307/3307 [==============================] - 3s 760us/sample - loss: 0.0051 - accuracy: 0.9994 - val_loss: 0.0510 - val_accuracy: 0.9915\n",
      "Epoch 41/50\n",
      "3307/3307 [==============================] - 2s 578us/sample - loss: 0.0093 - accuracy: 0.9985 - val_loss: 0.0472 - val_accuracy: 0.9915\n",
      "Epoch 42/50\n",
      "3307/3307 [==============================] - 2s 527us/sample - loss: 0.0072 - accuracy: 0.9985 - val_loss: 0.0433 - val_accuracy: 0.9940\n",
      "Epoch 43/50\n",
      "3307/3307 [==============================] - 2s 553us/sample - loss: 2.7147e-04 - accuracy: 1.0000 - val_loss: 0.0844 - val_accuracy: 0.9879\n",
      "Epoch 44/50\n",
      "3307/3307 [==============================] - 2s 536us/sample - loss: 0.0077 - accuracy: 0.9988 - val_loss: 0.0427 - val_accuracy: 0.9927\n",
      "Epoch 45/50\n",
      "3307/3307 [==============================] - 2s 635us/sample - loss: 1.6966e-04 - accuracy: 1.0000 - val_loss: 0.0696 - val_accuracy: 0.9903\n",
      "Epoch 46/50\n",
      "3307/3307 [==============================] - 2s 628us/sample - loss: 0.0051 - accuracy: 0.9991 - val_loss: 0.0694 - val_accuracy: 0.9891\n",
      "Epoch 47/50\n",
      "3307/3307 [==============================] - 2s 613us/sample - loss: 1.1419e-04 - accuracy: 1.0000 - val_loss: 0.0648 - val_accuracy: 0.9903\n",
      "Epoch 48/50\n",
      "3307/3307 [==============================] - 2s 511us/sample - loss: 0.0060 - accuracy: 0.9988 - val_loss: 0.0579 - val_accuracy: 0.9915\n",
      "Epoch 49/50\n",
      "3307/3307 [==============================] - 2s 583us/sample - loss: 0.0062 - accuracy: 0.9988 - val_loss: 0.0405 - val_accuracy: 0.9940\n",
      "Epoch 50/50\n",
      "3307/3307 [==============================] - 2s 564us/sample - loss: 8.6738e-05 - accuracy: 1.0000 - val_loss: 0.0396 - val_accuracy: 0.9927\n"
     ]
    }
   ],
   "source": [
    "history_lstm = model_lstm.fit(knot_tying_train_data, knot_tying_train_labels,\n",
    "                    epochs=50,\n",
    "                    batch_size=32,\n",
    "                    validation_data=(knot_tying_test_data, knot_tying_test_labels)\n",
    "                   )"
   ]
  },
  {
   "cell_type": "code",
   "execution_count": 44,
   "metadata": {
    "scrolled": true
   },
   "outputs": [
    {
     "data": {
      "text/plain": [
       "<Figure size 432x288 with 0 Axes>"
      ]
     },
     "execution_count": 44,
     "metadata": {},
     "output_type": "execute_result"
    },
    {
     "data": {
      "image/png": "[encoded data removed]",
      "text/plain": [
       "<Figure size 432x288 with 1 Axes>"
      ]
     },
     "metadata": {
      "needs_background": "light"
     },
     "output_type": "display_data"
    },
    {
     "data": {
      "image/png": "[encoded data removed]",
      "text/plain": [
       "<Figure size 432x288 with 1 Axes>"
      ]
     },
     "metadata": {
      "needs_background": "light"
     },
     "output_type": "display_data"
    },
    {
     "data": {
      "text/plain": [
       "<Figure size 432x288 with 0 Axes>"
      ]
     },
     "metadata": {},
     "output_type": "display_data"
    }
   ],
   "source": [
    "# Accuracy and loss\n",
    "acc = history_lstm.history['accuracy']\n",
    "val_acc = history_lstm.history['val_accuracy']\n",
    "loss = history_lstm.history['loss']\n",
    "val_loss = history_lstm.history['val_loss']\n",
    "\n",
    "epochs = range(1, len(acc) + 1)\n",
    "\n",
    "# Plot Loss\n",
    "plt.plot(epochs, loss, 'bo', label='Training loss')\n",
    "plt.plot(epochs, val_loss, 'orange', label = 'Validation loss')\n",
    "plt.title('Training and Validation Loss')\n",
    "plt.legend()\n",
    "\n",
    "plt.figure()\n",
    "\n",
    "# Plot Accuracy\n",
    "plt.plot(epochs, acc, 'bo', label='Training accuracy')\n",
    "plt.plot(epochs, val_acc, 'orange', label = 'Validation accuracy')\n",
    "plt.title('Training and Validation Accuracy')\n",
    "plt.legend()\n",
    "plt.figure()"
   ]
  },
  {
   "cell_type": "markdown",
   "metadata": {},
   "source": [
    "##### Needle_Passing"
   ]
  },
  {
   "cell_type": "code",
   "execution_count": 45,
   "metadata": {},
   "outputs": [],
   "source": [
    "model_lstm2 = models.Sequential()\n",
    "model_lstm2.add(layers.LSTM(8,\n",
    "                          input_shape=(needle_passing_train_data.shape[1], needle_passing_train_data.shape[2]),))\n",
    "model_lstm2.add(layers.Dense(3, activation='sigmoid'))"
   ]
  },
  {
   "cell_type": "code",
   "execution_count": 46,
   "metadata": {},
   "outputs": [
    {
     "name": "stdout",
     "output_type": "stream",
     "text": [
      "Model: \"sequential_7\"\n",
      "_________________________________________________________________\n",
      "Layer (type)                 Output Shape              Param #   \n",
      "=================================================================\n",
      "lstm_1 (LSTM)                (None, 8)                 1504      \n",
      "_________________________________________________________________\n",
      "dense_7 (Dense)              (None, 3)                 27        \n",
      "=================================================================\n",
      "Total params: 1,531\n",
      "Trainable params: 1,531\n",
      "Non-trainable params: 0\n",
      "_________________________________________________________________\n"
     ]
    }
   ],
   "source": [
    "model_lstm2.summary()"
   ]
  },
  {
   "cell_type": "code",
   "execution_count": 47,
   "metadata": {},
   "outputs": [],
   "source": [
    "model_lstm2.compile(optimizer='rmsprop', loss='categorical_crossentropy', metrics=['accuracy'])"
   ]
  },
  {
   "cell_type": "code",
   "execution_count": 48,
   "metadata": {},
   "outputs": [
    {
     "name": "stdout",
     "output_type": "stream",
     "text": [
      "Train on 4841 samples, validate on 1211 samples\n",
      "Epoch 1/50\n",
      "4841/4841 [==============================] - 6s 1ms/sample - loss: 1.0752 - accuracy: 0.4220 - val_loss: 1.0266 - val_accuracy: 0.5087\n",
      "Epoch 2/50\n",
      "4841/4841 [==============================] - 3s 596us/sample - loss: 0.9628 - accuracy: 0.6063 - val_loss: 0.8670 - val_accuracy: 0.6994\n",
      "Epoch 3/50\n",
      "4841/4841 [==============================] - 3s 617us/sample - loss: 0.7546 - accuracy: 0.7424 - val_loss: 0.6745 - val_accuracy: 0.7605\n",
      "Epoch 4/50\n",
      "4841/4841 [==============================] - 3s 639us/sample - loss: 0.6318 - accuracy: 0.7668 - val_loss: 0.5720 - val_accuracy: 0.7828\n",
      "Epoch 5/50\n",
      "4841/4841 [==============================] - 3s 568us/sample - loss: 0.5249 - accuracy: 0.7943 - val_loss: 0.4815 - val_accuracy: 0.8109\n",
      "Epoch 6/50\n",
      "4841/4841 [==============================] - 3s 561us/sample - loss: 0.4373 - accuracy: 0.8265 - val_loss: 0.3966 - val_accuracy: 0.8580\n",
      "Epoch 7/50\n",
      "4841/4841 [==============================] - 3s 555us/sample - loss: 0.3600 - accuracy: 0.8734 - val_loss: 0.3490 - val_accuracy: 0.8852\n",
      "Epoch 8/50\n",
      "4841/4841 [==============================] - 3s 559us/sample - loss: 0.2920 - accuracy: 0.9093 - val_loss: 0.2726 - val_accuracy: 0.9199\n",
      "Epoch 9/50\n",
      "4841/4841 [==============================] - 3s 554us/sample - loss: 0.2287 - accuracy: 0.9420 - val_loss: 0.2089 - val_accuracy: 0.9472\n",
      "Epoch 10/50\n",
      "4841/4841 [==============================] - 3s 596us/sample - loss: 0.1746 - accuracy: 0.9608 - val_loss: 0.1564 - val_accuracy: 0.9661\n",
      "Epoch 11/50\n",
      "4841/4841 [==============================] - 3s 577us/sample - loss: 0.1344 - accuracy: 0.9736 - val_loss: 0.1241 - val_accuracy: 0.9736\n",
      "Epoch 12/50\n",
      "4841/4841 [==============================] - 3s 558us/sample - loss: 0.1055 - accuracy: 0.9789 - val_loss: 0.1060 - val_accuracy: 0.9777\n",
      "Epoch 13/50\n",
      "4841/4841 [==============================] - 3s 558us/sample - loss: 0.0911 - accuracy: 0.9810 - val_loss: 0.0953 - val_accuracy: 0.9785\n",
      "Epoch 14/50\n",
      "4841/4841 [==============================] - 3s 559us/sample - loss: 0.0753 - accuracy: 0.9833 - val_loss: 0.0759 - val_accuracy: 0.9827\n",
      "Epoch 15/50\n",
      "4841/4841 [==============================] - 3s 554us/sample - loss: 0.0548 - accuracy: 0.9882 - val_loss: 0.0612 - val_accuracy: 0.9843\n",
      "Epoch 16/50\n",
      "4841/4841 [==============================] - 3s 598us/sample - loss: 0.0480 - accuracy: 0.9922 - val_loss: 0.0571 - val_accuracy: 0.9884\n",
      "Epoch 17/50\n",
      "4841/4841 [==============================] - 3s 574us/sample - loss: 0.0425 - accuracy: 0.9928 - val_loss: 0.0527 - val_accuracy: 0.9893\n",
      "Epoch 18/50\n",
      "4841/4841 [==============================] - 3s 559us/sample - loss: 0.0333 - accuracy: 0.9944 - val_loss: 0.0418 - val_accuracy: 0.9893\n",
      "Epoch 19/50\n",
      "4841/4841 [==============================] - 3s 564us/sample - loss: 0.0377 - accuracy: 0.9932 - val_loss: 0.0451 - val_accuracy: 0.9884\n",
      "Epoch 20/50\n",
      "4841/4841 [==============================] - 3s 570us/sample - loss: 0.0337 - accuracy: 0.9934 - val_loss: 0.0469 - val_accuracy: 0.9876\n",
      "Epoch 21/50\n",
      "4841/4841 [==============================] - 3s 591us/sample - loss: 0.0242 - accuracy: 0.9957 - val_loss: 0.0412 - val_accuracy: 0.9884\n",
      "Epoch 22/50\n",
      "4841/4841 [==============================] - 3s 579us/sample - loss: 0.0178 - accuracy: 0.9967 - val_loss: 0.0403 - val_accuracy: 0.9901\n",
      "Epoch 23/50\n",
      "4841/4841 [==============================] - 3s 571us/sample - loss: 0.0215 - accuracy: 0.9957 - val_loss: 0.0254 - val_accuracy: 0.9934\n",
      "Epoch 24/50\n",
      "4841/4841 [==============================] - 3s 563us/sample - loss: 0.0124 - accuracy: 0.9979 - val_loss: 0.0315 - val_accuracy: 0.9917\n",
      "Epoch 25/50\n",
      "4841/4841 [==============================] - 3s 561us/sample - loss: 0.0103 - accuracy: 0.9979 - val_loss: 0.0268 - val_accuracy: 0.9942\n",
      "Epoch 26/50\n",
      "4841/4841 [==============================] - 3s 556us/sample - loss: 0.0074 - accuracy: 0.9983 - val_loss: 0.0314 - val_accuracy: 0.9934\n",
      "Epoch 27/50\n",
      "4841/4841 [==============================] - 3s 639us/sample - loss: 0.0100 - accuracy: 0.9977 - val_loss: 0.0349 - val_accuracy: 0.9917\n",
      "Epoch 28/50\n",
      "4841/4841 [==============================] - 3s 605us/sample - loss: 0.0115 - accuracy: 0.9975 - val_loss: 0.0199 - val_accuracy: 0.9967\n",
      "Epoch 29/50\n",
      "4841/4841 [==============================] - 3s 592us/sample - loss: 0.0084 - accuracy: 0.9981 - val_loss: 0.0200 - val_accuracy: 0.9959\n",
      "Epoch 30/50\n",
      "4841/4841 [==============================] - 3s 596us/sample - loss: 0.0074 - accuracy: 0.9986 - val_loss: 0.0156 - val_accuracy: 0.9959\n",
      "Epoch 31/50\n",
      "4841/4841 [==============================] - 3s 610us/sample - loss: 0.0066 - accuracy: 0.9986 - val_loss: 0.0206 - val_accuracy: 0.9950\n",
      "Epoch 32/50\n",
      "4841/4841 [==============================] - 3s 562us/sample - loss: 0.0049 - accuracy: 0.9988 - val_loss: 0.0271 - val_accuracy: 0.9934\n",
      "Epoch 33/50\n",
      "4841/4841 [==============================] - 3s 635us/sample - loss: 0.0074 - accuracy: 0.9988 - val_loss: 0.0234 - val_accuracy: 0.9950\n",
      "Epoch 34/50\n",
      "4841/4841 [==============================] - 3s 617us/sample - loss: 0.0082 - accuracy: 0.9981 - val_loss: 0.0040 - val_accuracy: 0.9992\n",
      "Epoch 35/50\n",
      "4841/4841 [==============================] - 3s 565us/sample - loss: 0.0071 - accuracy: 0.9986 - val_loss: 0.0078 - val_accuracy: 0.9975\n",
      "Epoch 36/50\n",
      "4841/4841 [==============================] - 3s 555us/sample - loss: 0.0077 - accuracy: 0.9981 - val_loss: 0.0103 - val_accuracy: 0.9967\n",
      "Epoch 37/50\n",
      "4841/4841 [==============================] - 3s 558us/sample - loss: 0.0068 - accuracy: 0.9988 - val_loss: 0.0172 - val_accuracy: 0.9959\n",
      "Epoch 38/50\n",
      "4841/4841 [==============================] - 3s 582us/sample - loss: 0.0029 - accuracy: 0.9994 - val_loss: 9.6625e-04 - val_accuracy: 1.0000\n",
      "Epoch 39/50\n",
      "4841/4841 [==============================] - 3s 587us/sample - loss: 0.0011 - accuracy: 1.0000 - val_loss: 0.0179 - val_accuracy: 0.9959\n",
      "Epoch 40/50\n",
      "4841/4841 [==============================] - 3s 567us/sample - loss: 0.0083 - accuracy: 0.9988 - val_loss: 0.0033 - val_accuracy: 0.9983\n",
      "Epoch 41/50\n",
      "4841/4841 [==============================] - 3s 556us/sample - loss: 0.0100 - accuracy: 0.9988 - val_loss: 0.0196 - val_accuracy: 0.9959\n",
      "Epoch 42/50\n",
      "4841/4841 [==============================] - 3s 560us/sample - loss: 0.0086 - accuracy: 0.9986 - val_loss: 0.0090 - val_accuracy: 0.9975\n",
      "Epoch 43/50\n",
      "4841/4841 [==============================] - 3s 559us/sample - loss: 0.0044 - accuracy: 0.9994 - val_loss: 0.0027 - val_accuracy: 0.9983\n",
      "Epoch 44/50\n",
      "4841/4841 [==============================] - 3s 589us/sample - loss: 0.0011 - accuracy: 0.9998 - val_loss: 0.0022 - val_accuracy: 0.9992\n",
      "Epoch 45/50\n",
      "4841/4841 [==============================] - 3s 576us/sample - loss: 0.0036 - accuracy: 0.9996 - val_loss: 0.0048 - val_accuracy: 0.9992\n",
      "Epoch 46/50\n",
      "4841/4841 [==============================] - 3s 560us/sample - loss: 9.3105e-04 - accuracy: 0.9998 - val_loss: 0.0011 - val_accuracy: 0.9992\n",
      "Epoch 47/50\n",
      "4841/4841 [==============================] - 3s 563us/sample - loss: 2.2247e-04 - accuracy: 1.0000 - val_loss: 0.0221 - val_accuracy: 0.9967\n",
      "Epoch 48/50\n",
      "4841/4841 [==============================] - 3s 618us/sample - loss: 0.0063 - accuracy: 0.9994 - val_loss: 1.9334e-04 - val_accuracy: 1.0000\n",
      "Epoch 49/50\n",
      "4841/4841 [==============================] - 3s 625us/sample - loss: 0.0071 - accuracy: 0.9988 - val_loss: 8.6821e-04 - val_accuracy: 1.0000\n",
      "Epoch 50/50\n",
      "4841/4841 [==============================] - 3s 609us/sample - loss: 0.0049 - accuracy: 0.9996 - val_loss: 0.0071 - val_accuracy: 0.9983\n"
     ]
    }
   ],
   "source": [
    "history_lstm2 = model_lstm2.fit(needle_passing_train_data, needle_passing_train_labels,\n",
    "                    epochs=50,\n",
    "                    batch_size=32,\n",
    "                    validation_data=(needle_passing_test_data, needle_passing_test_labels)\n",
    "                   )"
   ]
  },
  {
   "cell_type": "code",
   "execution_count": 49,
   "metadata": {
    "scrolled": true
   },
   "outputs": [
    {
     "data": {
      "text/plain": [
       "<Figure size 432x288 with 0 Axes>"
      ]
     },
     "execution_count": 49,
     "metadata": {},
     "output_type": "execute_result"
    },
    {
     "data": {
      "image/png": "[encoded data removed]",
      "text/plain": [
       "<Figure size 432x288 with 1 Axes>"
      ]
     },
     "metadata": {
      "needs_background": "light"
     },
     "output_type": "display_data"
    },
    {
     "data": {
      "image/png": "[encoded data removed]",
      "text/plain": [
       "<Figure size 432x288 with 1 Axes>"
      ]
     },
     "metadata": {
      "needs_background": "light"
     },
     "output_type": "display_data"
    },
    {
     "data": {
      "text/plain": [
       "<Figure size 432x288 with 0 Axes>"
      ]
     },
     "metadata": {},
     "output_type": "display_data"
    }
   ],
   "source": [
    "# Accuracy and loss\n",
    "acc = history_lstm2.history['accuracy']\n",
    "val_acc = history_lstm2.history['val_accuracy']\n",
    "loss = history_lstm2.history['loss']\n",
    "val_loss = history_lstm2.history['val_loss']\n",
    "\n",
    "epochs = range(1, len(acc) + 1)\n",
    "\n",
    "# Plot Loss\n",
    "plt.plot(epochs, loss, 'bo', label='Training loss')\n",
    "plt.plot(epochs, val_loss, 'orange', label = 'Validation loss')\n",
    "plt.title('Training and Validation Loss')\n",
    "plt.legend()\n",
    "\n",
    "plt.figure()\n",
    "\n",
    "# Plot Accuracy\n",
    "plt.plot(epochs, acc, 'bo', label='Training accuracy')\n",
    "plt.plot(epochs, val_acc, 'orange', label = 'Validation accuracy')\n",
    "plt.title('Training and Validation Accuracy')\n",
    "plt.legend()\n",
    "plt.figure()"
   ]
  },
  {
   "cell_type": "markdown",
   "metadata": {},
   "source": [
    "##### Needle_Passing"
   ]
  },
  {
   "cell_type": "code",
   "execution_count": 50,
   "metadata": {},
   "outputs": [],
   "source": [
    "model_lstm2 = models.Sequential()\n",
    "model_lstm2.add(layers.LSTM(8,\n",
    "                          input_shape=(needle_passing_train_data.shape[1], needle_passing_train_data.shape[2]),))\n",
    "model_lstm2.add(layers.Dense(3, activation='sigmoid'))"
   ]
  },
  {
   "cell_type": "code",
   "execution_count": 51,
   "metadata": {},
   "outputs": [
    {
     "name": "stdout",
     "output_type": "stream",
     "text": [
      "Model: \"sequential_8\"\n",
      "_________________________________________________________________\n",
      "Layer (type)                 Output Shape              Param #   \n",
      "=================================================================\n",
      "lstm_2 (LSTM)                (None, 8)                 1504      \n",
      "_________________________________________________________________\n",
      "dense_8 (Dense)              (None, 3)                 27        \n",
      "=================================================================\n",
      "Total params: 1,531\n",
      "Trainable params: 1,531\n",
      "Non-trainable params: 0\n",
      "_________________________________________________________________\n"
     ]
    }
   ],
   "source": [
    "model_lstm2.summary()"
   ]
  },
  {
   "cell_type": "code",
   "execution_count": 52,
   "metadata": {},
   "outputs": [],
   "source": [
    "model_lstm2.compile(optimizer='rmsprop', loss='categorical_crossentropy', metrics=['accuracy'])"
   ]
  },
  {
   "cell_type": "code",
   "execution_count": 53,
   "metadata": {},
   "outputs": [
    {
     "name": "stdout",
     "output_type": "stream",
     "text": [
      "Train on 4841 samples, validate on 1211 samples\n",
      "Epoch 1/50\n",
      "4841/4841 [==============================] - 6s 1ms/sample - loss: 1.0777 - accuracy: 0.3853 - val_loss: 1.0346 - val_accuracy: 0.4674\n",
      "Epoch 2/50\n",
      "4841/4841 [==============================] - 3s 555us/sample - loss: 0.9777 - accuracy: 0.5526 - val_loss: 0.8927 - val_accuracy: 0.6317\n",
      "Epoch 3/50\n",
      "4841/4841 [==============================] - 3s 557us/sample - loss: 0.7787 - accuracy: 0.6831 - val_loss: 0.6723 - val_accuracy: 0.6912\n",
      "Epoch 4/50\n",
      "4841/4841 [==============================] - 3s 587us/sample - loss: 0.6094 - accuracy: 0.7255 - val_loss: 0.5854 - val_accuracy: 0.7135\n",
      "Epoch 5/50\n",
      "4841/4841 [==============================] - 3s 581us/sample - loss: 0.5302 - accuracy: 0.7434 - val_loss: 0.5213 - val_accuracy: 0.7407\n",
      "Epoch 6/50\n",
      "4841/4841 [==============================] - 3s 561us/sample - loss: 0.4692 - accuracy: 0.7550 - val_loss: 0.4644 - val_accuracy: 0.7498\n",
      "Epoch 7/50\n",
      "4841/4841 [==============================] - 3s 567us/sample - loss: 0.4358 - accuracy: 0.7544 - val_loss: 0.4429 - val_accuracy: 0.7605\n",
      "Epoch 8/50\n",
      "4841/4841 [==============================] - 3s 560us/sample - loss: 0.4163 - accuracy: 0.7624 - val_loss: 0.4346 - val_accuracy: 0.7655\n",
      "Epoch 9/50\n",
      "4841/4841 [==============================] - 3s 556us/sample - loss: 0.4027 - accuracy: 0.7655 - val_loss: 0.4101 - val_accuracy: 0.7729\n",
      "Epoch 10/50\n",
      "4841/4841 [==============================] - 3s 588us/sample - loss: 0.3909 - accuracy: 0.7740 - val_loss: 0.3922 - val_accuracy: 0.7803\n",
      "Epoch 11/50\n",
      "4841/4841 [==============================] - 3s 570us/sample - loss: 0.3797 - accuracy: 0.7837 - val_loss: 0.3746 - val_accuracy: 0.7853\n",
      "Epoch 12/50\n",
      "4841/4841 [==============================] - 3s 558us/sample - loss: 0.3640 - accuracy: 0.7947 - val_loss: 0.3646 - val_accuracy: 0.7911\n",
      "Epoch 13/50\n",
      "4841/4841 [==============================] - 3s 554us/sample - loss: 0.3510 - accuracy: 0.7998 - val_loss: 0.3490 - val_accuracy: 0.7985\n",
      "Epoch 14/50\n",
      "4841/4841 [==============================] - 3s 557us/sample - loss: 0.3290 - accuracy: 0.8162 - val_loss: 0.3199 - val_accuracy: 0.8183\n",
      "Epoch 15/50\n",
      "4841/4841 [==============================] - 3s 562us/sample - loss: 0.2879 - accuracy: 0.8511 - val_loss: 0.2695 - val_accuracy: 0.8662\n",
      "Epoch 16/50\n",
      "4841/4841 [==============================] - 3s 591us/sample - loss: 0.2410 - accuracy: 0.8825 - val_loss: 0.2343 - val_accuracy: 0.8984\n",
      "Epoch 17/50\n",
      "4841/4841 [==============================] - 3s 571us/sample - loss: 0.2052 - accuracy: 0.9114 - val_loss: 0.2139 - val_accuracy: 0.9100\n",
      "Epoch 18/50\n",
      "4841/4841 [==============================] - 3s 559us/sample - loss: 0.1765 - accuracy: 0.9358 - val_loss: 0.1890 - val_accuracy: 0.9455\n",
      "Epoch 19/50\n",
      "4841/4841 [==============================] - 3s 563us/sample - loss: 0.1454 - accuracy: 0.9649 - val_loss: 0.1540 - val_accuracy: 0.9628\n",
      "Epoch 20/50\n",
      "4841/4841 [==============================] - 3s 555us/sample - loss: 0.1179 - accuracy: 0.9791 - val_loss: 0.1201 - val_accuracy: 0.9703\n",
      "Epoch 21/50\n",
      "4841/4841 [==============================] - 3s 554us/sample - loss: 0.0894 - accuracy: 0.9862 - val_loss: 0.1139 - val_accuracy: 0.9719\n",
      "Epoch 22/50\n",
      "4841/4841 [==============================] - 3s 615us/sample - loss: 0.0757 - accuracy: 0.9891 - val_loss: 0.0833 - val_accuracy: 0.9810\n",
      "Epoch 23/50\n",
      "4841/4841 [==============================] - 3s 569us/sample - loss: 0.0566 - accuracy: 0.9930 - val_loss: 0.0901 - val_accuracy: 0.9802\n",
      "Epoch 24/50\n",
      "4841/4841 [==============================] - 3s 556us/sample - loss: 0.0488 - accuracy: 0.9932 - val_loss: 0.0563 - val_accuracy: 0.9901\n",
      "Epoch 25/50\n",
      "4841/4841 [==============================] - 3s 555us/sample - loss: 0.0398 - accuracy: 0.9950 - val_loss: 0.0427 - val_accuracy: 0.9901\n",
      "Epoch 26/50\n",
      "4841/4841 [==============================] - 3s 551us/sample - loss: 0.0334 - accuracy: 0.9959 - val_loss: 0.0406 - val_accuracy: 0.9893\n",
      "Epoch 27/50\n",
      "4841/4841 [==============================] - 3s 559us/sample - loss: 0.0223 - accuracy: 0.9971 - val_loss: 0.0295 - val_accuracy: 0.9934\n",
      "Epoch 28/50\n",
      "4841/4841 [==============================] - 3s 588us/sample - loss: 0.0208 - accuracy: 0.9975 - val_loss: 0.0307 - val_accuracy: 0.9917\n",
      "Epoch 29/50\n",
      "4841/4841 [==============================] - 3s 587us/sample - loss: 0.0110 - accuracy: 0.9988 - val_loss: 0.0277 - val_accuracy: 0.9926\n",
      "Epoch 30/50\n",
      "4841/4841 [==============================] - 3s 561us/sample - loss: 0.0116 - accuracy: 0.9981 - val_loss: 0.0277 - val_accuracy: 0.9942\n",
      "Epoch 31/50\n",
      "4841/4841 [==============================] - 3s 557us/sample - loss: 0.0099 - accuracy: 0.9981 - val_loss: 0.0257 - val_accuracy: 0.9942\n",
      "Epoch 32/50\n",
      "4841/4841 [==============================] - 3s 564us/sample - loss: 0.0089 - accuracy: 0.9988 - val_loss: 0.0145 - val_accuracy: 0.9975\n",
      "Epoch 33/50\n",
      "4841/4841 [==============================] - 3s 573us/sample - loss: 0.0073 - accuracy: 0.9990 - val_loss: 0.0184 - val_accuracy: 0.9959\n",
      "Epoch 34/50\n",
      "4841/4841 [==============================] - 3s 573us/sample - loss: 0.0051 - accuracy: 0.9994 - val_loss: 0.0157 - val_accuracy: 0.9967\n",
      "Epoch 35/50\n",
      "4841/4841 [==============================] - 3s 574us/sample - loss: 0.0063 - accuracy: 0.9992 - val_loss: 0.0241 - val_accuracy: 0.9959\n",
      "Epoch 36/50\n",
      "4841/4841 [==============================] - 3s 552us/sample - loss: 0.0054 - accuracy: 0.9992 - val_loss: 0.0168 - val_accuracy: 0.9959\n",
      "Epoch 37/50\n",
      "4841/4841 [==============================] - 3s 553us/sample - loss: 0.0074 - accuracy: 0.9990 - val_loss: 0.0323 - val_accuracy: 0.9917\n",
      "Epoch 38/50\n",
      "4841/4841 [==============================] - 3s 556us/sample - loss: 0.0042 - accuracy: 0.9990 - val_loss: 0.0192 - val_accuracy: 0.9959\n",
      "Epoch 39/50\n",
      "4841/4841 [==============================] - 3s 570us/sample - loss: 0.0085 - accuracy: 0.9990 - val_loss: 0.0277 - val_accuracy: 0.9942\n",
      "Epoch 40/50\n",
      "4841/4841 [==============================] - 3s 575us/sample - loss: 0.0028 - accuracy: 0.9996 - val_loss: 0.0115 - val_accuracy: 0.9975\n",
      "Epoch 41/50\n",
      "4841/4841 [==============================] - 3s 561us/sample - loss: 0.0057 - accuracy: 0.9990 - val_loss: 0.0217 - val_accuracy: 0.9959\n",
      "Epoch 42/50\n",
      "4841/4841 [==============================] - 3s 547us/sample - loss: 0.0024 - accuracy: 0.9998 - val_loss: 0.0092 - val_accuracy: 0.9975\n",
      "Epoch 43/50\n",
      "4841/4841 [==============================] - 3s 548us/sample - loss: 0.0033 - accuracy: 0.9994 - val_loss: 0.0087 - val_accuracy: 0.9975\n",
      "Epoch 44/50\n",
      "4841/4841 [==============================] - 3s 553us/sample - loss: 0.0052 - accuracy: 0.9992 - val_loss: 0.0106 - val_accuracy: 0.9975\n",
      "Epoch 45/50\n",
      "4841/4841 [==============================] - 3s 582us/sample - loss: 0.0038 - accuracy: 0.9996 - val_loss: 0.0348 - val_accuracy: 0.9934\n",
      "Epoch 46/50\n",
      "4841/4841 [==============================] - 3s 569us/sample - loss: 0.0070 - accuracy: 0.9988 - val_loss: 0.0092 - val_accuracy: 0.9975\n",
      "Epoch 47/50\n",
      "4841/4841 [==============================] - 3s 560us/sample - loss: 0.0071 - accuracy: 0.9990 - val_loss: 0.0153 - val_accuracy: 0.9967\n",
      "Epoch 48/50\n",
      "4841/4841 [==============================] - 3s 576us/sample - loss: 0.0052 - accuracy: 0.9992 - val_loss: 0.0116 - val_accuracy: 0.9975\n",
      "Epoch 49/50\n",
      "4841/4841 [==============================] - 3s 549us/sample - loss: 1.5707e-04 - accuracy: 1.0000 - val_loss: 0.0506 - val_accuracy: 0.9934\n",
      "Epoch 50/50\n",
      "4841/4841 [==============================] - 3s 577us/sample - loss: 0.0092 - accuracy: 0.9983 - val_loss: 0.0137 - val_accuracy: 0.9967\n"
     ]
    }
   ],
   "source": [
    "history_lstm2 = model_lstm2.fit(needle_passing_train_data, needle_passing_train_labels,\n",
    "                    epochs=50,\n",
    "                    batch_size=32,\n",
    "                    validation_data=(needle_passing_test_data, needle_passing_test_labels)\n",
    "                   )"
   ]
  },
  {
   "cell_type": "code",
   "execution_count": 54,
   "metadata": {
    "scrolled": true
   },
   "outputs": [
    {
     "data": {
      "text/plain": [
       "<Figure size 432x288 with 0 Axes>"
      ]
     },
     "execution_count": 54,
     "metadata": {},
     "output_type": "execute_result"
    },
    {
     "data": {
      "image/png": "[encoded data removed]",
      "text/plain": [
       "<Figure size 432x288 with 1 Axes>"
      ]
     },
     "metadata": {
      "needs_background": "light"
     },
     "output_type": "display_data"
    },
    {
     "data": {
      "image/png": "[encoded data removed]",
      "text/plain": [
       "<Figure size 432x288 with 1 Axes>"
      ]
     },
     "metadata": {
      "needs_background": "light"
     },
     "output_type": "display_data"
    },
    {
     "data": {
      "text/plain": [
       "<Figure size 432x288 with 0 Axes>"
      ]
     },
     "metadata": {},
     "output_type": "display_data"
    }
   ],
   "source": [
    "# Accuracy and loss\n",
    "acc = history_lstm2.history['accuracy']\n",
    "val_acc = history_lstm2.history['val_accuracy']\n",
    "loss = history_lstm2.history['loss']\n",
    "val_loss = history_lstm2.history['val_loss']\n",
    "\n",
    "epochs = range(1, len(acc) + 1)\n",
    "\n",
    "# Plot Loss\n",
    "plt.plot(epochs, loss, 'bo', label='Training loss')\n",
    "plt.plot(epochs, val_loss, 'orange', label = 'Validation loss')\n",
    "plt.title('Training and Validation Loss')\n",
    "plt.legend()\n",
    "\n",
    "plt.figure()\n",
    "\n",
    "# Plot Accuracy\n",
    "plt.plot(epochs, acc, 'bo', label='Training accuracy')\n",
    "plt.plot(epochs, val_acc, 'orange', label = 'Validation accuracy')\n",
    "plt.title('Training and Validation Accuracy')\n",
    "plt.legend()\n",
    "plt.figure()"
   ]
  },
  {
   "cell_type": "markdown",
   "metadata": {},
   "source": [
    "##### Suturing"
   ]
  },
  {
   "cell_type": "code",
   "execution_count": 55,
   "metadata": {},
   "outputs": [],
   "source": [
    "model_lstm3 = models.Sequential()\n",
    "model_lstm3.add(layers.LSTM(8,\n",
    "                          input_shape=(suturing_train_data.shape[1], suturing_train_data.shape[2]),))\n",
    "model_lstm3.add(layers.Dense(3, activation='sigmoid'))"
   ]
  },
  {
   "cell_type": "code",
   "execution_count": 56,
   "metadata": {},
   "outputs": [
    {
     "name": "stdout",
     "output_type": "stream",
     "text": [
      "Model: \"sequential_9\"\n",
      "_________________________________________________________________\n",
      "Layer (type)                 Output Shape              Param #   \n",
      "=================================================================\n",
      "lstm_3 (LSTM)                (None, 8)                 1504      \n",
      "_________________________________________________________________\n",
      "dense_9 (Dense)              (None, 3)                 27        \n",
      "=================================================================\n",
      "Total params: 1,531\n",
      "Trainable params: 1,531\n",
      "Non-trainable params: 0\n",
      "_________________________________________________________________\n"
     ]
    }
   ],
   "source": [
    "model_lstm3.summary()"
   ]
  },
  {
   "cell_type": "code",
   "execution_count": 57,
   "metadata": {},
   "outputs": [],
   "source": [
    "model_lstm3.compile(optimizer='rmsprop', loss='categorical_crossentropy', metrics=['accuracy'])"
   ]
  },
  {
   "cell_type": "code",
   "execution_count": 58,
   "metadata": {},
   "outputs": [
    {
     "name": "stdout",
     "output_type": "stream",
     "text": [
      "Train on 7003 samples, validate on 1751 samples\n",
      "Epoch 1/50\n",
      "7003/7003 [==============================] - 7s 1ms/sample - loss: 1.0149 - accuracy: 0.5379 - val_loss: 0.9363 - val_accuracy: 0.6168\n",
      "Epoch 2/50\n",
      "7003/7003 [==============================] - 4s 553us/sample - loss: 0.7990 - accuracy: 0.6821 - val_loss: 0.6476 - val_accuracy: 0.7556\n",
      "Epoch 3/50\n",
      "7003/7003 [==============================] - 4s 554us/sample - loss: 0.5464 - accuracy: 0.7919 - val_loss: 0.4586 - val_accuracy: 0.8132\n",
      "Epoch 4/50\n",
      "7003/7003 [==============================] - 4s 580us/sample - loss: 0.3658 - accuracy: 0.8816 - val_loss: 0.2938 - val_accuracy: 0.9189\n",
      "Epoch 5/50\n",
      "7003/7003 [==============================] - 4s 558us/sample - loss: 0.2281 - accuracy: 0.9503 - val_loss: 0.1965 - val_accuracy: 0.9646\n",
      "Epoch 6/50\n",
      "7003/7003 [==============================] - 4s 542us/sample - loss: 0.1571 - accuracy: 0.9730 - val_loss: 0.1445 - val_accuracy: 0.9743\n",
      "Epoch 7/50\n",
      "7003/7003 [==============================] - 4s 588us/sample - loss: 0.1173 - accuracy: 0.9817 - val_loss: 0.1149 - val_accuracy: 0.9794\n",
      "Epoch 8/50\n",
      "7003/7003 [==============================] - 4s 594us/sample - loss: 0.0825 - accuracy: 0.9869 - val_loss: 0.0872 - val_accuracy: 0.9852\n",
      "Epoch 9/50\n",
      "7003/7003 [==============================] - 4s 549us/sample - loss: 0.0657 - accuracy: 0.9904 - val_loss: 0.0654 - val_accuracy: 0.9880\n",
      "Epoch 10/50\n",
      "7003/7003 [==============================] - 4s 545us/sample - loss: 0.0562 - accuracy: 0.9913 - val_loss: 0.0668 - val_accuracy: 0.9863\n",
      "Epoch 11/50\n",
      "7003/7003 [==============================] - 4s 535us/sample - loss: 0.0389 - accuracy: 0.9936 - val_loss: 0.0531 - val_accuracy: 0.9897\n",
      "Epoch 12/50\n",
      "7003/7003 [==============================] - 4s 563us/sample - loss: 0.0406 - accuracy: 0.9934 - val_loss: 0.0346 - val_accuracy: 0.9937\n",
      "Epoch 13/50\n",
      "7003/7003 [==============================] - 4s 547us/sample - loss: 0.0241 - accuracy: 0.9966 - val_loss: 0.0355 - val_accuracy: 0.9937\n",
      "Epoch 14/50\n",
      "7003/7003 [==============================] - 4s 552us/sample - loss: 0.0256 - accuracy: 0.9961 - val_loss: 0.0403 - val_accuracy: 0.9926\n",
      "Epoch 15/50\n",
      "7003/7003 [==============================] - 4s 533us/sample - loss: 0.0181 - accuracy: 0.9970 - val_loss: 0.0336 - val_accuracy: 0.9949\n",
      "Epoch 16/50\n",
      "7003/7003 [==============================] - 4s 578us/sample - loss: 0.0128 - accuracy: 0.9979 - val_loss: 0.0294 - val_accuracy: 0.9949\n",
      "Epoch 17/50\n",
      "7003/7003 [==============================] - 4s 560us/sample - loss: 0.0115 - accuracy: 0.9983 - val_loss: 0.0272 - val_accuracy: 0.9937\n",
      "Epoch 18/50\n",
      "7003/7003 [==============================] - 4s 553us/sample - loss: 0.0101 - accuracy: 0.9986 - val_loss: 0.0272 - val_accuracy: 0.9949\n",
      "Epoch 19/50\n",
      "7003/7003 [==============================] - 4s 537us/sample - loss: 0.0158 - accuracy: 0.9974 - val_loss: 0.0220 - val_accuracy: 0.9949\n",
      "Epoch 20/50\n",
      "7003/7003 [==============================] - 4s 573us/sample - loss: 0.0089 - accuracy: 0.9987 - val_loss: 0.0187 - val_accuracy: 0.9966\n",
      "Epoch 21/50\n",
      "7003/7003 [==============================] - 4s 566us/sample - loss: 0.0123 - accuracy: 0.9981 - val_loss: 0.0276 - val_accuracy: 0.9943\n",
      "Epoch 22/50\n",
      "7003/7003 [==============================] - 4s 558us/sample - loss: 0.0078 - accuracy: 0.9990 - val_loss: 0.0200 - val_accuracy: 0.9960\n",
      "Epoch 23/50\n",
      "7003/7003 [==============================] - 4s 554us/sample - loss: 0.0087 - accuracy: 0.9986 - val_loss: 0.0273 - val_accuracy: 0.9949\n",
      "Epoch 24/50\n",
      "7003/7003 [==============================] - 4s 571us/sample - loss: 0.0051 - accuracy: 0.9993 - val_loss: 0.0406 - val_accuracy: 0.9926\n",
      "Epoch 25/50\n",
      "7003/7003 [==============================] - 4s 583us/sample - loss: 0.0054 - accuracy: 0.9990 - val_loss: 0.0232 - val_accuracy: 0.9954\n",
      "Epoch 26/50\n",
      "7003/7003 [==============================] - 4s 544us/sample - loss: 0.0061 - accuracy: 0.9989 - val_loss: 0.0208 - val_accuracy: 0.9954\n",
      "Epoch 27/50\n",
      "7003/7003 [==============================] - 4s 557us/sample - loss: 0.0042 - accuracy: 0.9993 - val_loss: 0.0118 - val_accuracy: 0.9966\n",
      "Epoch 28/50\n",
      "7003/7003 [==============================] - 4s 570us/sample - loss: 0.0070 - accuracy: 0.9986 - val_loss: 0.0148 - val_accuracy: 0.9966\n",
      "Epoch 29/50\n",
      "7003/7003 [==============================] - 4s 572us/sample - loss: 0.0025 - accuracy: 0.9996 - val_loss: 0.0135 - val_accuracy: 0.9971\n",
      "Epoch 30/50\n",
      "7003/7003 [==============================] - 4s 557us/sample - loss: 0.0046 - accuracy: 0.9991 - val_loss: 0.0189 - val_accuracy: 0.9966\n",
      "Epoch 31/50\n",
      "7003/7003 [==============================] - 4s 557us/sample - loss: 0.0132 - accuracy: 0.9984 - val_loss: 0.0119 - val_accuracy: 0.9977\n",
      "Epoch 32/50\n",
      "7003/7003 [==============================] - 4s 578us/sample - loss: 0.0069 - accuracy: 0.9990 - val_loss: 0.0103 - val_accuracy: 0.9971\n",
      "Epoch 33/50\n",
      "7003/7003 [==============================] - 4s 575us/sample - loss: 0.0068 - accuracy: 0.9991 - val_loss: 0.0156 - val_accuracy: 0.9954\n",
      "Epoch 34/50\n",
      "7003/7003 [==============================] - 4s 562us/sample - loss: 0.0049 - accuracy: 0.9991 - val_loss: 0.0083 - val_accuracy: 0.9971\n",
      "Epoch 35/50\n",
      "7003/7003 [==============================] - 4s 560us/sample - loss: 0.0050 - accuracy: 0.9991 - val_loss: 0.0131 - val_accuracy: 0.9971\n",
      "Epoch 36/50\n",
      "7003/7003 [==============================] - 4s 585us/sample - loss: 3.0896e-04 - accuracy: 0.9999 - val_loss: 0.0068 - val_accuracy: 0.9983\n",
      "Epoch 37/50\n",
      "7003/7003 [==============================] - 4s 620us/sample - loss: 0.0016 - accuracy: 0.9999 - val_loss: 0.0128 - val_accuracy: 0.9971\n",
      "Epoch 38/50\n",
      "7003/7003 [==============================] - 5s 731us/sample - loss: 0.0027 - accuracy: 0.9996 - val_loss: 0.0163 - val_accuracy: 0.9971\n",
      "Epoch 39/50\n",
      "7003/7003 [==============================] - 5s 766us/sample - loss: 8.9908e-04 - accuracy: 0.9999 - val_loss: 0.0075 - val_accuracy: 0.9971\n",
      "Epoch 40/50\n",
      "7003/7003 [==============================] - 5s 765us/sample - loss: 0.0047 - accuracy: 0.9994 - val_loss: 0.0183 - val_accuracy: 0.9960\n",
      "Epoch 41/50\n",
      "7003/7003 [==============================] - 4s 594us/sample - loss: 2.4959e-05 - accuracy: 1.0000 - val_loss: 0.0302 - val_accuracy: 0.9966\n",
      "Epoch 42/50\n",
      "7003/7003 [==============================] - 4s 640us/sample - loss: 0.0078 - accuracy: 0.9990 - val_loss: 0.0233 - val_accuracy: 0.9966\n",
      "Epoch 43/50\n",
      "7003/7003 [==============================] - 5s 692us/sample - loss: 0.0019 - accuracy: 0.9999 - val_loss: 0.0180 - val_accuracy: 0.9971\n",
      "Epoch 44/50\n",
      "7003/7003 [==============================] - 5s 651us/sample - loss: 1.0364e-04 - accuracy: 1.0000 - val_loss: 0.0077 - val_accuracy: 0.9983\n",
      "Epoch 45/50\n",
      "7003/7003 [==============================] - 4s 613us/sample - loss: 0.0015 - accuracy: 0.9999 - val_loss: 0.0112 - val_accuracy: 0.9989\n",
      "Epoch 46/50\n",
      "7003/7003 [==============================] - 4s 606us/sample - loss: 0.0021 - accuracy: 0.9999 - val_loss: 0.0060 - val_accuracy: 0.9983\n",
      "Epoch 47/50\n",
      "7003/7003 [==============================] - 5s 685us/sample - loss: 3.1736e-04 - accuracy: 0.9999 - val_loss: 0.0176 - val_accuracy: 0.9983\n",
      "Epoch 48/50\n",
      "7003/7003 [==============================] - 5s 720us/sample - loss: 0.0020 - accuracy: 0.9999 - val_loss: 0.0077 - val_accuracy: 0.9989\n",
      "Epoch 49/50\n",
      "7003/7003 [==============================] - 5s 651us/sample - loss: 1.9010e-04 - accuracy: 0.9999 - val_loss: 0.0114 - val_accuracy: 0.9983\n",
      "Epoch 50/50\n",
      "7003/7003 [==============================] - 4s 637us/sample - loss: 0.0042 - accuracy: 0.9997 - val_loss: 0.0271 - val_accuracy: 0.9971\n"
     ]
    }
   ],
   "source": [
    "history_lstm3 = model_lstm3.fit(suturing_train_data, suturing_train_labels,\n",
    "                    epochs=50,\n",
    "                    batch_size=32,\n",
    "                    validation_data=(suturing_test_data, suturing_test_labels)\n",
    "                   )"
   ]
  },
  {
   "cell_type": "code",
   "execution_count": 59,
   "metadata": {
    "scrolled": true
   },
   "outputs": [
    {
     "data": {
      "text/plain": [
       "<Figure size 432x288 with 0 Axes>"
      ]
     },
     "execution_count": 59,
     "metadata": {},
     "output_type": "execute_result"
    },
    {
     "data": {
      "image/png": "[encoded data removed]",
      "text/plain": [
       "<Figure size 432x288 with 1 Axes>"
      ]
     },
     "metadata": {
      "needs_background": "light"
     },
     "output_type": "display_data"
    },
    {
     "data": {
      "image/png": "[encoded data removed]",
      "text/plain": [
       "<Figure size 432x288 with 1 Axes>"
      ]
     },
     "metadata": {
      "needs_background": "light"
     },
     "output_type": "display_data"
    },
    {
     "data": {
      "text/plain": [
       "<Figure size 432x288 with 0 Axes>"
      ]
     },
     "metadata": {},
     "output_type": "display_data"
    }
   ],
   "source": [
    "# Accuracy and loss\n",
    "acc = history_lstm3.history['accuracy']\n",
    "val_acc = history_lstm3.history['val_accuracy']\n",
    "loss = history_lstm3.history['loss']\n",
    "val_loss = history_lstm3.history['val_loss']\n",
    "\n",
    "epochs = range(1, len(acc) + 1)\n",
    "\n",
    "# Plot Loss\n",
    "plt.plot(epochs, loss, 'bo', label='Training loss')\n",
    "plt.plot(epochs, val_loss, 'orange', label = 'Validation loss')\n",
    "plt.title('Training and Validation Loss')\n",
    "plt.legend()\n",
    "\n",
    "plt.figure()\n",
    "\n",
    "# Plot Accuracy\n",
    "plt.plot(epochs, acc, 'bo', label='Training accuracy')\n",
    "plt.plot(epochs, val_acc, 'orange', label = 'Validation accuracy')\n",
    "plt.title('Training and Validation Accuracy')\n",
    "plt.legend()\n",
    "plt.figure()"
   ]
  }
 ],
 "metadata": {
  "kernelspec": {
   "display_name": "Python 3",
   "language": "python",
   "name": "python3"
  },
  "language_info": {
   "codemirror_mode": {
    "name": "ipython",
    "version": 3
   },
   "file_extension": ".py",
   "mimetype": "text/x-python",
   "name": "python",
   "nbconvert_exporter": "python",
   "pygments_lexer": "ipython3",
   "version": "3.7.6"
  }
 },
 "nbformat": 4,
 "nbformat_minor": 4
}
